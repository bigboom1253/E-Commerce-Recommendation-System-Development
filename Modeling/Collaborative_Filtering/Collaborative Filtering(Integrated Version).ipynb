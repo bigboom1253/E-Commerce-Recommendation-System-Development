{
 "cells": [
  {
   "cell_type": "markdown",
   "metadata": {
    "id": "oIAnNuuX2EOr"
   },
   "source": [
    "# 추천 시스템 (Recommender Systems)\n"
   ]
  },
  {
   "cell_type": "markdown",
   "metadata": {},
   "source": [
    "## 데이터 준비\n"
   ]
  },
  {
   "cell_type": "code",
   "execution_count": 101,
   "metadata": {},
   "outputs": [],
   "source": [
    "import pandas as pd\n",
    "import numpy as np\n",
    "from sklearn.decomposition import randomized_svd, non_negative_factorization"
   ]
  },
  {
   "cell_type": "code",
   "execution_count": 4,
   "metadata": {},
   "outputs": [],
   "source": [
    "#전처리된 리뷰데이터Json파일 데이터프레임으로 불러오기\n",
    "review_data = pd.read_json('preprocessed_review_data.json')"
   ]
  },
  {
   "cell_type": "code",
   "execution_count": 6,
   "metadata": {},
   "outputs": [
    {
     "data": {
      "text/html": [
       "<div>\n",
       "<style scoped>\n",
       "    .dataframe tbody tr th:only-of-type {\n",
       "        vertical-align: middle;\n",
       "    }\n",
       "\n",
       "    .dataframe tbody tr th {\n",
       "        vertical-align: top;\n",
       "    }\n",
       "\n",
       "    .dataframe thead th {\n",
       "        text-align: right;\n",
       "    }\n",
       "</style>\n",
       "<table border=\"1\" class=\"dataframe\">\n",
       "  <thead>\n",
       "    <tr style=\"text-align: right;\">\n",
       "      <th></th>\n",
       "      <th>review_idx</th>\n",
       "      <th>prod_idx</th>\n",
       "      <th>prod_satis</th>\n",
       "      <th>ship_satis</th>\n",
       "      <th>select_options</th>\n",
       "      <th>buy_date</th>\n",
       "      <th>review_date</th>\n",
       "      <th>use_opt1</th>\n",
       "      <th>use_satis1</th>\n",
       "      <th>use_opt2</th>\n",
       "      <th>use_satis2</th>\n",
       "      <th>content</th>\n",
       "      <th>user_id</th>\n",
       "      <th>memberSrl</th>\n",
       "    </tr>\n",
       "  </thead>\n",
       "  <tbody>\n",
       "    <tr>\n",
       "      <th>0</th>\n",
       "      <td>168489442</td>\n",
       "      <td>2865723582</td>\n",
       "      <td>5</td>\n",
       "      <td>5</td>\n",
       "      <td>05_꿀밤고구마 못난이2kg(2개 주문시 10kg 발송)</td>\n",
       "      <td>05_꿀밤고구마 못난이2kg(2개 주문시 10kg 발송)</td>\n",
       "      <td>2020-10-06 15:25:44</td>\n",
       "      <td>맛</td>\n",
       "      <td>맛있어요</td>\n",
       "      <td>신선도</td>\n",
       "      <td>신선해요</td>\n",
       "      <td>좋아요좋아요좋아요좋아요좋아요</td>\n",
       "      <td>sln****</td>\n",
       "      <td>101994422</td>\n",
       "    </tr>\n",
       "    <tr>\n",
       "      <th>1</th>\n",
       "      <td>168390782</td>\n",
       "      <td>2865723582</td>\n",
       "      <td>5</td>\n",
       "      <td>5</td>\n",
       "      <td>02_★추천★꿀고구마 정품 특상1kg (2개 주문시 3kg 발송)</td>\n",
       "      <td>02_★추천★꿀고구마 정품 특상1kg (2개 주문시 3kg 발송)</td>\n",
       "      <td>2020-10-06 07:45:30</td>\n",
       "      <td>맛</td>\n",
       "      <td>보통이에요</td>\n",
       "      <td>신선도</td>\n",
       "      <td>적당해요</td>\n",
       "      <td>잘 받았습니다많이 달진않았어요</td>\n",
       "      <td>kej****</td>\n",
       "      <td>5016629</td>\n",
       "    </tr>\n",
       "    <tr>\n",
       "      <th>2</th>\n",
       "      <td>168389334</td>\n",
       "      <td>2865723582</td>\n",
       "      <td>5</td>\n",
       "      <td>5</td>\n",
       "      <td>05_꿀밤고구마 못난이2kg(2개 주문시 10kg 발송)</td>\n",
       "      <td>05_꿀밤고구마 못난이2kg(2개 주문시 10kg 발송)</td>\n",
       "      <td>2020-10-06 07:31:52</td>\n",
       "      <td>맛</td>\n",
       "      <td>맛있어요</td>\n",
       "      <td>신선도</td>\n",
       "      <td>신선해요</td>\n",
       "      <td>배송이 빠르네요 ㅎㅎ.</td>\n",
       "      <td>k38**</td>\n",
       "      <td>298123</td>\n",
       "    </tr>\n",
       "    <tr>\n",
       "      <th>3</th>\n",
       "      <td>168344378</td>\n",
       "      <td>2865723582</td>\n",
       "      <td>5</td>\n",
       "      <td>5</td>\n",
       "      <td>03_꿀고구마 정품한입1kg (2개 주문시 5kg 발송)</td>\n",
       "      <td>03_꿀고구마 정품한입1kg (2개 주문시 5kg 발송)</td>\n",
       "      <td>2020-10-05 23:55:31</td>\n",
       "      <td>맛</td>\n",
       "      <td>맛있어요</td>\n",
       "      <td>신선도</td>\n",
       "      <td>신선해요</td>\n",
       "      <td>좋은 가격에 잘 샀어요 배송도 빠릅니다</td>\n",
       "      <td>hko*****</td>\n",
       "      <td>80235</td>\n",
       "    </tr>\n",
       "    <tr>\n",
       "      <th>4</th>\n",
       "      <td>168329002</td>\n",
       "      <td>2865723582</td>\n",
       "      <td>5</td>\n",
       "      <td>5</td>\n",
       "      <td>02_★추천★꿀고구마 정품 특상1kg (2개 주문시 3kg 발송)</td>\n",
       "      <td>02_★추천★꿀고구마 정품 특상1kg (2개 주문시 3kg 발송)</td>\n",
       "      <td>2020-10-05 23:04:41</td>\n",
       "      <td>맛</td>\n",
       "      <td>맛있어요</td>\n",
       "      <td>신선도</td>\n",
       "      <td>신선해요</td>\n",
       "      <td>저렴한데 맛있어요.. 재구매 합니다.~^^</td>\n",
       "      <td>gra*****</td>\n",
       "      <td>17873545</td>\n",
       "    </tr>\n",
       "    <tr>\n",
       "      <th>...</th>\n",
       "      <td>...</td>\n",
       "      <td>...</td>\n",
       "      <td>...</td>\n",
       "      <td>...</td>\n",
       "      <td>...</td>\n",
       "      <td>...</td>\n",
       "      <td>...</td>\n",
       "      <td>...</td>\n",
       "      <td>...</td>\n",
       "      <td>...</td>\n",
       "      <td>...</td>\n",
       "      <td>...</td>\n",
       "      <td>...</td>\n",
       "      <td>...</td>\n",
       "    </tr>\n",
       "    <tr>\n",
       "      <th>568705</th>\n",
       "      <td>161355262</td>\n",
       "      <td>3873456926</td>\n",
       "      <td>5</td>\n",
       "      <td>4</td>\n",
       "      <td>12.닭갈비볶음밥 1+ 오븐바 오리지널 1</td>\n",
       "      <td>12.닭갈비볶음밥 1+ 오븐바 오리지널 1</td>\n",
       "      <td>2020-09-08 14:19:03</td>\n",
       "      <td>맛</td>\n",
       "      <td>보통이에요</td>\n",
       "      <td>신선도</td>\n",
       "      <td>적당해요</td>\n",
       "      <td>저렴하고 배송빨라툐ㅡㅡㅡ</td>\n",
       "      <td>khy****</td>\n",
       "      <td>153566</td>\n",
       "    </tr>\n",
       "    <tr>\n",
       "      <th>568706</th>\n",
       "      <td>161333522</td>\n",
       "      <td>3873456926</td>\n",
       "      <td>5</td>\n",
       "      <td>5</td>\n",
       "      <td>05.후랑크 오리지널 70g 1+1+1+1</td>\n",
       "      <td>05.후랑크 오리지널 70g 1+1+1+1</td>\n",
       "      <td>2020-09-08 12:55:21</td>\n",
       "      <td>맛</td>\n",
       "      <td>맛있어요</td>\n",
       "      <td>신선도</td>\n",
       "      <td>신선해요</td>\n",
       "      <td>싸게 잘삿어요 배송도 빨라요</td>\n",
       "      <td>rnt******</td>\n",
       "      <td>22123157</td>\n",
       "    </tr>\n",
       "    <tr>\n",
       "      <th>568707</th>\n",
       "      <td>161220022</td>\n",
       "      <td>3873456926</td>\n",
       "      <td>5</td>\n",
       "      <td>5</td>\n",
       "      <td>01.핫썸머 빨간맛 패키지 (꼬치불닭+오븐바매콤+프리미엄청양)</td>\n",
       "      <td>01.핫썸머 빨간맛 패키지 (꼬치불닭+오븐바매콤+프리미엄청양)</td>\n",
       "      <td>2020-09-08 00:14:24</td>\n",
       "      <td>맛</td>\n",
       "      <td>맛있어요</td>\n",
       "      <td>신선도</td>\n",
       "      <td>신선해요</td>\n",
       "      <td>아직 먹어보진 않았지만 포장긋ㆍ</td>\n",
       "      <td>hjk*****</td>\n",
       "      <td>80018294</td>\n",
       "    </tr>\n",
       "    <tr>\n",
       "      <th>568709</th>\n",
       "      <td>161188722</td>\n",
       "      <td>3873456926</td>\n",
       "      <td>5</td>\n",
       "      <td>5</td>\n",
       "      <td>06.후랑크 치즈 70g 1+1+1</td>\n",
       "      <td>06.후랑크 치즈 70g 1+1+1</td>\n",
       "      <td>2020-09-07 22:50:13</td>\n",
       "      <td>맛</td>\n",
       "      <td>맛있어요</td>\n",
       "      <td>신선도</td>\n",
       "      <td>적당해요</td>\n",
       "      <td>옥수수 소세지 강추요~~~~너무 맛있어요</td>\n",
       "      <td>dms*****</td>\n",
       "      <td>21201529</td>\n",
       "    </tr>\n",
       "    <tr>\n",
       "      <th>568710</th>\n",
       "      <td>168656006</td>\n",
       "      <td>4346584706</td>\n",
       "      <td>5</td>\n",
       "      <td>5</td>\n",
       "      <td>5. 국내산 3초 대패 500g(한돈) 500g+500g 총 1kg</td>\n",
       "      <td>5. 국내산 3초 대패 500g(한돈) 500g+500g 총 1kg</td>\n",
       "      <td>2020-10-06 23:21:33</td>\n",
       "      <td>맛</td>\n",
       "      <td>맛있어요</td>\n",
       "      <td>신선도</td>\n",
       "      <td>신선해요</td>\n",
       "      <td>대패삽겹살이 맛있네요. 숙주 볶음하니까 맛나요</td>\n",
       "      <td>win****</td>\n",
       "      <td>928771</td>\n",
       "    </tr>\n",
       "  </tbody>\n",
       "</table>\n",
       "<p>556264 rows × 14 columns</p>\n",
       "</div>"
      ],
      "text/plain": [
       "        review_idx    prod_idx  prod_satis  ship_satis  \\\n",
       "0        168489442  2865723582           5           5   \n",
       "1        168390782  2865723582           5           5   \n",
       "2        168389334  2865723582           5           5   \n",
       "3        168344378  2865723582           5           5   \n",
       "4        168329002  2865723582           5           5   \n",
       "...            ...         ...         ...         ...   \n",
       "568705   161355262  3873456926           5           4   \n",
       "568706   161333522  3873456926           5           5   \n",
       "568707   161220022  3873456926           5           5   \n",
       "568709   161188722  3873456926           5           5   \n",
       "568710   168656006  4346584706           5           5   \n",
       "\n",
       "                               select_options  \\\n",
       "0             05_꿀밤고구마 못난이2kg(2개 주문시 10kg 발송)   \n",
       "1        02_★추천★꿀고구마 정품 특상1kg (2개 주문시 3kg 발송)   \n",
       "2             05_꿀밤고구마 못난이2kg(2개 주문시 10kg 발송)   \n",
       "3             03_꿀고구마 정품한입1kg (2개 주문시 5kg 발송)   \n",
       "4        02_★추천★꿀고구마 정품 특상1kg (2개 주문시 3kg 발송)   \n",
       "...                                       ...   \n",
       "568705                12.닭갈비볶음밥 1+ 오븐바 오리지널 1   \n",
       "568706                05.후랑크 오리지널 70g 1+1+1+1   \n",
       "568707     01.핫썸머 빨간맛 패키지 (꼬치불닭+오븐바매콤+프리미엄청양)   \n",
       "568709                    06.후랑크 치즈 70g 1+1+1   \n",
       "568710  5. 국내산 3초 대패 500g(한돈) 500g+500g 총 1kg   \n",
       "\n",
       "                                     buy_date          review_date use_opt1  \\\n",
       "0             05_꿀밤고구마 못난이2kg(2개 주문시 10kg 발송)  2020-10-06 15:25:44        맛   \n",
       "1        02_★추천★꿀고구마 정품 특상1kg (2개 주문시 3kg 발송)  2020-10-06 07:45:30        맛   \n",
       "2             05_꿀밤고구마 못난이2kg(2개 주문시 10kg 발송)  2020-10-06 07:31:52        맛   \n",
       "3             03_꿀고구마 정품한입1kg (2개 주문시 5kg 발송)  2020-10-05 23:55:31        맛   \n",
       "4        02_★추천★꿀고구마 정품 특상1kg (2개 주문시 3kg 발송)  2020-10-05 23:04:41        맛   \n",
       "...                                       ...                  ...      ...   \n",
       "568705                12.닭갈비볶음밥 1+ 오븐바 오리지널 1  2020-09-08 14:19:03        맛   \n",
       "568706                05.후랑크 오리지널 70g 1+1+1+1  2020-09-08 12:55:21        맛   \n",
       "568707     01.핫썸머 빨간맛 패키지 (꼬치불닭+오븐바매콤+프리미엄청양)  2020-09-08 00:14:24        맛   \n",
       "568709                    06.후랑크 치즈 70g 1+1+1  2020-09-07 22:50:13        맛   \n",
       "568710  5. 국내산 3초 대패 500g(한돈) 500g+500g 총 1kg  2020-10-06 23:21:33        맛   \n",
       "\n",
       "       use_satis1 use_opt2 use_satis2                    content    user_id  \\\n",
       "0            맛있어요      신선도       신선해요           좋아요좋아요좋아요좋아요좋아요     sln****   \n",
       "1           보통이에요      신선도       적당해요           잘 받았습니다많이 달진않았어요    kej****   \n",
       "2            맛있어요      신선도       신선해요               배송이 빠르네요 ㅎㅎ.      k38**   \n",
       "3            맛있어요      신선도       신선해요      좋은 가격에 잘 샀어요 배송도 빠릅니다   hko*****   \n",
       "4            맛있어요      신선도       신선해요    저렴한데 맛있어요.. 재구매 합니다.~^^   gra*****   \n",
       "...           ...      ...        ...                        ...        ...   \n",
       "568705      보통이에요      신선도       적당해요              저렴하고 배송빨라툐ㅡㅡㅡ    khy****   \n",
       "568706       맛있어요      신선도       신선해요            싸게 잘삿어요 배송도 빨라요  rnt******   \n",
       "568707       맛있어요      신선도       신선해요          아직 먹어보진 않았지만 포장긋ㆍ   hjk*****   \n",
       "568709       맛있어요      신선도       적당해요     옥수수 소세지 강추요~~~~너무 맛있어요   dms*****   \n",
       "568710       맛있어요      신선도       신선해요  대패삽겹살이 맛있네요. 숙주 볶음하니까 맛나요    win****   \n",
       "\n",
       "        memberSrl  \n",
       "0       101994422  \n",
       "1         5016629  \n",
       "2          298123  \n",
       "3           80235  \n",
       "4        17873545  \n",
       "...           ...  \n",
       "568705     153566  \n",
       "568706   22123157  \n",
       "568707   80018294  \n",
       "568709   21201529  \n",
       "568710     928771  \n",
       "\n",
       "[556264 rows x 14 columns]"
      ]
     },
     "execution_count": 6,
     "metadata": {},
     "output_type": "execute_result"
    }
   ],
   "source": [
    "review_data"
   ]
  },
  {
   "cell_type": "code",
   "execution_count": 5,
   "metadata": {},
   "outputs": [],
   "source": [
    "prod_data = pd.read_json('preprocessed_prod_data.json')"
   ]
  },
  {
   "cell_type": "code",
   "execution_count": 7,
   "metadata": {},
   "outputs": [
    {
     "data": {
      "text/html": [
       "<div>\n",
       "<style scoped>\n",
       "    .dataframe tbody tr th:only-of-type {\n",
       "        vertical-align: middle;\n",
       "    }\n",
       "\n",
       "    .dataframe tbody tr th {\n",
       "        vertical-align: top;\n",
       "    }\n",
       "\n",
       "    .dataframe thead th {\n",
       "        text-align: right;\n",
       "    }\n",
       "</style>\n",
       "<table border=\"1\" class=\"dataframe\">\n",
       "  <thead>\n",
       "    <tr style=\"text-align: right;\">\n",
       "      <th></th>\n",
       "      <th>prod_idx</th>\n",
       "      <th>image</th>\n",
       "      <th>title</th>\n",
       "      <th>category</th>\n",
       "      <th>price</th>\n",
       "      <th>stocks</th>\n",
       "      <th>prod_satis</th>\n",
       "      <th>prod_url</th>\n",
       "      <th>buy_count</th>\n",
       "    </tr>\n",
       "  </thead>\n",
       "  <tbody>\n",
       "    <tr>\n",
       "      <th>0</th>\n",
       "      <td>2865723582</td>\n",
       "      <td>http://th4.tmon.kr/thumbs/image/f32/0e0/a5e/b5...</td>\n",
       "      <td>[컬러푸드] 선착순20%할인쿠폰+해남 후기갑 꿀고구마 중상1kg 정품\\n한입/특상/...</td>\n",
       "      <td>[식품·건강, 채소, 감자·고구마·당근·뿌리채소, 고구마]</td>\n",
       "      <td>6900</td>\n",
       "      <td>1</td>\n",
       "      <td>4.4</td>\n",
       "      <td>http://www.tmon.co.kr/deal/2865723582\\n</td>\n",
       "      <td>106276</td>\n",
       "    </tr>\n",
       "    <tr>\n",
       "      <th>1</th>\n",
       "      <td>512851998</td>\n",
       "      <td>http://th1.tmon.kr/thumbs/image/c8d/da8/a8e/99...</td>\n",
       "      <td>[샐러드미인] 간편한 샐러드/베이글 외 33종</td>\n",
       "      <td>[식품·건강, 채소, 상추·깻잎·쌈채소·샐러드, 샐러드]</td>\n",
       "      <td>900</td>\n",
       "      <td>1</td>\n",
       "      <td>4.5</td>\n",
       "      <td>http://www.tmon.co.kr/deal/512851998\\n</td>\n",
       "      <td>61337</td>\n",
       "    </tr>\n",
       "    <tr>\n",
       "      <th>2</th>\n",
       "      <td>760761146</td>\n",
       "      <td>http://th3.tmon.kr/thumbs/image/89e/370/471/8e...</td>\n",
       "      <td>[팜에이트] 간편한 소포장부터 든든한 한끼 샐러드까지 총14종</td>\n",
       "      <td>[식품·건강, 채소, 상추·깻잎·쌈채소·샐러드, 샐러드]</td>\n",
       "      <td>1300</td>\n",
       "      <td>1</td>\n",
       "      <td>4.4</td>\n",
       "      <td>http://www.tmon.co.kr/deal/760761146\\n</td>\n",
       "      <td>37744</td>\n",
       "    </tr>\n",
       "    <tr>\n",
       "      <th>3</th>\n",
       "      <td>212815213</td>\n",
       "      <td>http://image.ticketmonster.co.kr/deals/2015/06...</td>\n",
       "      <td>달콤해서 한입에 반한\\n반시고구마 말랭이</td>\n",
       "      <td>[식품·건강, 채소, 감자·고구마·당근·뿌리채소, 고구마]</td>\n",
       "      <td>1250</td>\n",
       "      <td>1</td>\n",
       "      <td>4.3</td>\n",
       "      <td>http://www.tmon.co.kr/deal/212815213\\n</td>\n",
       "      <td>27041</td>\n",
       "    </tr>\n",
       "    <tr>\n",
       "      <th>4</th>\n",
       "      <td>3030712126</td>\n",
       "      <td>http://th1.tmon.kr/thumbs/image/154/93f/57b/e1...</td>\n",
       "      <td>[봉팔형님] 밤꿀고구마 중 1kg 외 꿀고구마 4종 크기별 모음 / 2개 구매시 3...</td>\n",
       "      <td>[식품·건강, 채소, 감자·고구마·당근·뿌리채소, 고구마]</td>\n",
       "      <td>8900</td>\n",
       "      <td>1</td>\n",
       "      <td>4.4</td>\n",
       "      <td>http://www.tmon.co.kr/deal/3030712126\\n</td>\n",
       "      <td>22321</td>\n",
       "    </tr>\n",
       "    <tr>\n",
       "      <th>...</th>\n",
       "      <td>...</td>\n",
       "      <td>...</td>\n",
       "      <td>...</td>\n",
       "      <td>...</td>\n",
       "      <td>...</td>\n",
       "      <td>...</td>\n",
       "      <td>...</td>\n",
       "      <td>...</td>\n",
       "      <td>...</td>\n",
       "    </tr>\n",
       "    <tr>\n",
       "      <th>31522</th>\n",
       "      <td>1783465342</td>\n",
       "      <td>http://img4.tmon.kr/cdn3/deals/2020/09/06/1783...</td>\n",
       "      <td>마이닭 닭가슴살소세지 핫바 오리지널 70g 100팩</td>\n",
       "      <td>[식품·건강, 정육·계란류, 닭·오리고기, 생닭]</td>\n",
       "      <td>87940</td>\n",
       "      <td>1</td>\n",
       "      <td>5.0</td>\n",
       "      <td>http://www.tmon.co.kr/deal/1783465342\\n</td>\n",
       "      <td>1</td>\n",
       "    </tr>\n",
       "    <tr>\n",
       "      <th>31523</th>\n",
       "      <td>1761347862</td>\n",
       "      <td>http://img4.tmon.kr/cdn3/deals/2020/05/28/1761...</td>\n",
       "      <td>허닭 닭가슴살 큐브 통현미 100g 30팩</td>\n",
       "      <td>[식품·건강, 정육·계란류, 닭·오리고기, 생닭]</td>\n",
       "      <td>57160</td>\n",
       "      <td>1</td>\n",
       "      <td>0.0</td>\n",
       "      <td>http://www.tmon.co.kr/deal/1761347862\\n</td>\n",
       "      <td>1</td>\n",
       "    </tr>\n",
       "    <tr>\n",
       "      <th>31524</th>\n",
       "      <td>1716499562</td>\n",
       "      <td>http://th1.tmon.kr/thumbs/image/b59/115/664/35...</td>\n",
       "      <td>[미트앤] 차돌양지국거리 500g</td>\n",
       "      <td>[식품·건강, 정육·계란류, 수입육·기타, 미국산]</td>\n",
       "      <td>9000</td>\n",
       "      <td>1</td>\n",
       "      <td>0.0</td>\n",
       "      <td>http://www.tmon.co.kr/deal/1716499562\\n</td>\n",
       "      <td>1</td>\n",
       "    </tr>\n",
       "    <tr>\n",
       "      <th>31525</th>\n",
       "      <td>1648136462</td>\n",
       "      <td>http://img3.tmon.kr/cdn3/deals/2019/05/29/1648...</td>\n",
       "      <td>와이푸드 양꼬치고기 램500g 쯔란30g 증정</td>\n",
       "      <td>[식품·건강, 정육·계란류, 수입육·기타, 호주산]</td>\n",
       "      <td>16800</td>\n",
       "      <td>1</td>\n",
       "      <td>5.0</td>\n",
       "      <td>http://www.tmon.co.kr/deal/1648136462\\n</td>\n",
       "      <td>1</td>\n",
       "    </tr>\n",
       "    <tr>\n",
       "      <th>31526</th>\n",
       "      <td>1503085886</td>\n",
       "      <td>http://img4.tmon.kr/deals/2018/09/18/150308588...</td>\n",
       "      <td>알장군구운계란(90알)1박스</td>\n",
       "      <td>[식품·건강, 정육·계란류, 계란·알류·가공란, 일반란]</td>\n",
       "      <td>34900</td>\n",
       "      <td>1</td>\n",
       "      <td>5.0</td>\n",
       "      <td>http://www.tmon.co.kr/deal/1503085886\\n</td>\n",
       "      <td>1</td>\n",
       "    </tr>\n",
       "  </tbody>\n",
       "</table>\n",
       "<p>31527 rows × 9 columns</p>\n",
       "</div>"
      ],
      "text/plain": [
       "         prod_idx                                              image  \\\n",
       "0      2865723582  http://th4.tmon.kr/thumbs/image/f32/0e0/a5e/b5...   \n",
       "1       512851998  http://th1.tmon.kr/thumbs/image/c8d/da8/a8e/99...   \n",
       "2       760761146  http://th3.tmon.kr/thumbs/image/89e/370/471/8e...   \n",
       "3       212815213  http://image.ticketmonster.co.kr/deals/2015/06...   \n",
       "4      3030712126  http://th1.tmon.kr/thumbs/image/154/93f/57b/e1...   \n",
       "...           ...                                                ...   \n",
       "31522  1783465342  http://img4.tmon.kr/cdn3/deals/2020/09/06/1783...   \n",
       "31523  1761347862  http://img4.tmon.kr/cdn3/deals/2020/05/28/1761...   \n",
       "31524  1716499562  http://th1.tmon.kr/thumbs/image/b59/115/664/35...   \n",
       "31525  1648136462  http://img3.tmon.kr/cdn3/deals/2019/05/29/1648...   \n",
       "31526  1503085886  http://img4.tmon.kr/deals/2018/09/18/150308588...   \n",
       "\n",
       "                                                   title  \\\n",
       "0      [컬러푸드] 선착순20%할인쿠폰+해남 후기갑 꿀고구마 중상1kg 정품\\n한입/특상/...   \n",
       "1                              [샐러드미인] 간편한 샐러드/베이글 외 33종   \n",
       "2                     [팜에이트] 간편한 소포장부터 든든한 한끼 샐러드까지 총14종   \n",
       "3                                 달콤해서 한입에 반한\\n반시고구마 말랭이   \n",
       "4      [봉팔형님] 밤꿀고구마 중 1kg 외 꿀고구마 4종 크기별 모음 / 2개 구매시 3...   \n",
       "...                                                  ...   \n",
       "31522                       마이닭 닭가슴살소세지 핫바 오리지널 70g 100팩   \n",
       "31523                            허닭 닭가슴살 큐브 통현미 100g 30팩   \n",
       "31524                                 [미트앤] 차돌양지국거리 500g   \n",
       "31525                          와이푸드 양꼬치고기 램500g 쯔란30g 증정   \n",
       "31526                                    알장군구운계란(90알)1박스   \n",
       "\n",
       "                               category  price  stocks  prod_satis  \\\n",
       "0      [식품·건강, 채소, 감자·고구마·당근·뿌리채소, 고구마]   6900       1         4.4   \n",
       "1       [식품·건강, 채소, 상추·깻잎·쌈채소·샐러드, 샐러드]    900       1         4.5   \n",
       "2       [식품·건강, 채소, 상추·깻잎·쌈채소·샐러드, 샐러드]   1300       1         4.4   \n",
       "3      [식품·건강, 채소, 감자·고구마·당근·뿌리채소, 고구마]   1250       1         4.3   \n",
       "4      [식품·건강, 채소, 감자·고구마·당근·뿌리채소, 고구마]   8900       1         4.4   \n",
       "...                                 ...    ...     ...         ...   \n",
       "31522       [식품·건강, 정육·계란류, 닭·오리고기, 생닭]  87940       1         5.0   \n",
       "31523       [식품·건강, 정육·계란류, 닭·오리고기, 생닭]  57160       1         0.0   \n",
       "31524      [식품·건강, 정육·계란류, 수입육·기타, 미국산]   9000       1         0.0   \n",
       "31525      [식품·건강, 정육·계란류, 수입육·기타, 호주산]  16800       1         5.0   \n",
       "31526   [식품·건강, 정육·계란류, 계란·알류·가공란, 일반란]  34900       1         5.0   \n",
       "\n",
       "                                      prod_url  buy_count  \n",
       "0      http://www.tmon.co.kr/deal/2865723582\\n     106276  \n",
       "1       http://www.tmon.co.kr/deal/512851998\\n      61337  \n",
       "2       http://www.tmon.co.kr/deal/760761146\\n      37744  \n",
       "3       http://www.tmon.co.kr/deal/212815213\\n      27041  \n",
       "4      http://www.tmon.co.kr/deal/3030712126\\n      22321  \n",
       "...                                        ...        ...  \n",
       "31522  http://www.tmon.co.kr/deal/1783465342\\n          1  \n",
       "31523  http://www.tmon.co.kr/deal/1761347862\\n          1  \n",
       "31524  http://www.tmon.co.kr/deal/1716499562\\n          1  \n",
       "31525  http://www.tmon.co.kr/deal/1648136462\\n          1  \n",
       "31526  http://www.tmon.co.kr/deal/1503085886\\n          1  \n",
       "\n",
       "[31527 rows x 9 columns]"
      ]
     },
     "execution_count": 7,
     "metadata": {},
     "output_type": "execute_result"
    }
   ],
   "source": [
    "prod_data"
   ]
  },
  {
   "cell_type": "code",
   "execution_count": 8,
   "metadata": {},
   "outputs": [
    {
     "data": {
      "text/plain": [
       "9834"
      ]
     },
     "execution_count": 8,
     "metadata": {},
     "output_type": "execute_result"
    }
   ],
   "source": [
    "#상품 리스트\n",
    "prod_id_ls = list(review_data['prod_idx'].unique())\n",
    "len(prod_id_ls)"
   ]
  },
  {
   "cell_type": "code",
   "execution_count": 9,
   "metadata": {},
   "outputs": [
    {
     "data": {
      "text/plain": [
       "58322"
      ]
     },
     "execution_count": 9,
     "metadata": {},
     "output_type": "execute_result"
    }
   ],
   "source": [
    "#유저 리스트\n",
    "member_id_ls = list(review_data['memberSrl'].unique())\n",
    "len(member_id_ls)"
   ]
  },
  {
   "cell_type": "code",
   "execution_count": 10,
   "metadata": {},
   "outputs": [],
   "source": [
    "#상품X유저 데이터프레임 생성(index = 상품ID, columns = 유저ID)\n",
    "df = pd.DataFrame(index=prod_id_ls, columns=member_id_ls)"
   ]
  },
  {
   "cell_type": "code",
   "execution_count": 11,
   "metadata": {},
   "outputs": [],
   "source": [
    "#상품X유저 데이터프레임에 유저별 상품만족도 삽입\n",
    "for mem_id in member_id_ls :\n",
    "    is_memberSrl = review_data['memberSrl'] == mem_id\n",
    "    mem_prod_ls = list(review_data[is_memberSrl]['prod_idx'])\n",
    "    mem_satis_ls = list(review_data[is_memberSrl]['prod_satis'])\n",
    "    for i,j in zip(mem_prod_ls,mem_satis_ls) :\n",
    "        df[mem_id][i] = j"
   ]
  },
  {
   "cell_type": "code",
   "execution_count": 13,
   "metadata": {},
   "outputs": [],
   "source": [
    "df = df.fillna(0)"
   ]
  },
  {
   "cell_type": "code",
   "execution_count": 14,
   "metadata": {},
   "outputs": [
    {
     "data": {
      "text/html": [
       "<div>\n",
       "<style scoped>\n",
       "    .dataframe tbody tr th:only-of-type {\n",
       "        vertical-align: middle;\n",
       "    }\n",
       "\n",
       "    .dataframe tbody tr th {\n",
       "        vertical-align: top;\n",
       "    }\n",
       "\n",
       "    .dataframe thead th {\n",
       "        text-align: right;\n",
       "    }\n",
       "</style>\n",
       "<table border=\"1\" class=\"dataframe\">\n",
       "  <thead>\n",
       "    <tr style=\"text-align: right;\">\n",
       "      <th></th>\n",
       "      <th>101994422</th>\n",
       "      <th>5016629</th>\n",
       "      <th>298123</th>\n",
       "      <th>80235</th>\n",
       "      <th>17873545</th>\n",
       "      <th>70477358</th>\n",
       "      <th>21627189</th>\n",
       "      <th>20400529</th>\n",
       "      <th>10205573</th>\n",
       "      <th>2707693</th>\n",
       "      <th>...</th>\n",
       "      <th>61043278</th>\n",
       "      <th>64185254</th>\n",
       "      <th>12447653</th>\n",
       "      <th>376355</th>\n",
       "      <th>35356381</th>\n",
       "      <th>73024842</th>\n",
       "      <th>5851257</th>\n",
       "      <th>41814697</th>\n",
       "      <th>40265865</th>\n",
       "      <th>49325577</th>\n",
       "    </tr>\n",
       "  </thead>\n",
       "  <tbody>\n",
       "    <tr>\n",
       "      <th>2865723582</th>\n",
       "      <td>5</td>\n",
       "      <td>5</td>\n",
       "      <td>5</td>\n",
       "      <td>5</td>\n",
       "      <td>5</td>\n",
       "      <td>5</td>\n",
       "      <td>4</td>\n",
       "      <td>4</td>\n",
       "      <td>5</td>\n",
       "      <td>5</td>\n",
       "      <td>...</td>\n",
       "      <td>0</td>\n",
       "      <td>0</td>\n",
       "      <td>0</td>\n",
       "      <td>0</td>\n",
       "      <td>0</td>\n",
       "      <td>0</td>\n",
       "      <td>0</td>\n",
       "      <td>0</td>\n",
       "      <td>0</td>\n",
       "      <td>0</td>\n",
       "    </tr>\n",
       "    <tr>\n",
       "      <th>512851998</th>\n",
       "      <td>0</td>\n",
       "      <td>0</td>\n",
       "      <td>0</td>\n",
       "      <td>0</td>\n",
       "      <td>0</td>\n",
       "      <td>0</td>\n",
       "      <td>0</td>\n",
       "      <td>0</td>\n",
       "      <td>0</td>\n",
       "      <td>0</td>\n",
       "      <td>...</td>\n",
       "      <td>0</td>\n",
       "      <td>0</td>\n",
       "      <td>0</td>\n",
       "      <td>0</td>\n",
       "      <td>0</td>\n",
       "      <td>0</td>\n",
       "      <td>0</td>\n",
       "      <td>0</td>\n",
       "      <td>0</td>\n",
       "      <td>0</td>\n",
       "    </tr>\n",
       "    <tr>\n",
       "      <th>760761146</th>\n",
       "      <td>0</td>\n",
       "      <td>0</td>\n",
       "      <td>0</td>\n",
       "      <td>0</td>\n",
       "      <td>0</td>\n",
       "      <td>0</td>\n",
       "      <td>0</td>\n",
       "      <td>0</td>\n",
       "      <td>0</td>\n",
       "      <td>0</td>\n",
       "      <td>...</td>\n",
       "      <td>0</td>\n",
       "      <td>0</td>\n",
       "      <td>0</td>\n",
       "      <td>0</td>\n",
       "      <td>0</td>\n",
       "      <td>0</td>\n",
       "      <td>0</td>\n",
       "      <td>0</td>\n",
       "      <td>0</td>\n",
       "      <td>0</td>\n",
       "    </tr>\n",
       "    <tr>\n",
       "      <th>212815213</th>\n",
       "      <td>0</td>\n",
       "      <td>0</td>\n",
       "      <td>0</td>\n",
       "      <td>0</td>\n",
       "      <td>0</td>\n",
       "      <td>0</td>\n",
       "      <td>0</td>\n",
       "      <td>0</td>\n",
       "      <td>0</td>\n",
       "      <td>0</td>\n",
       "      <td>...</td>\n",
       "      <td>0</td>\n",
       "      <td>0</td>\n",
       "      <td>0</td>\n",
       "      <td>0</td>\n",
       "      <td>0</td>\n",
       "      <td>0</td>\n",
       "      <td>0</td>\n",
       "      <td>0</td>\n",
       "      <td>0</td>\n",
       "      <td>0</td>\n",
       "    </tr>\n",
       "    <tr>\n",
       "      <th>3030712126</th>\n",
       "      <td>0</td>\n",
       "      <td>0</td>\n",
       "      <td>0</td>\n",
       "      <td>0</td>\n",
       "      <td>0</td>\n",
       "      <td>0</td>\n",
       "      <td>4</td>\n",
       "      <td>0</td>\n",
       "      <td>0</td>\n",
       "      <td>5</td>\n",
       "      <td>...</td>\n",
       "      <td>0</td>\n",
       "      <td>0</td>\n",
       "      <td>0</td>\n",
       "      <td>0</td>\n",
       "      <td>0</td>\n",
       "      <td>0</td>\n",
       "      <td>0</td>\n",
       "      <td>0</td>\n",
       "      <td>0</td>\n",
       "      <td>0</td>\n",
       "    </tr>\n",
       "    <tr>\n",
       "      <th>...</th>\n",
       "      <td>...</td>\n",
       "      <td>...</td>\n",
       "      <td>...</td>\n",
       "      <td>...</td>\n",
       "      <td>...</td>\n",
       "      <td>...</td>\n",
       "      <td>...</td>\n",
       "      <td>...</td>\n",
       "      <td>...</td>\n",
       "      <td>...</td>\n",
       "      <td>...</td>\n",
       "      <td>...</td>\n",
       "      <td>...</td>\n",
       "      <td>...</td>\n",
       "      <td>...</td>\n",
       "      <td>...</td>\n",
       "      <td>...</td>\n",
       "      <td>...</td>\n",
       "      <td>...</td>\n",
       "      <td>...</td>\n",
       "      <td>...</td>\n",
       "    </tr>\n",
       "    <tr>\n",
       "      <th>2764649526</th>\n",
       "      <td>0</td>\n",
       "      <td>0</td>\n",
       "      <td>0</td>\n",
       "      <td>0</td>\n",
       "      <td>0</td>\n",
       "      <td>0</td>\n",
       "      <td>0</td>\n",
       "      <td>0</td>\n",
       "      <td>0</td>\n",
       "      <td>0</td>\n",
       "      <td>...</td>\n",
       "      <td>0</td>\n",
       "      <td>0</td>\n",
       "      <td>0</td>\n",
       "      <td>0</td>\n",
       "      <td>0</td>\n",
       "      <td>0</td>\n",
       "      <td>0</td>\n",
       "      <td>0</td>\n",
       "      <td>0</td>\n",
       "      <td>0</td>\n",
       "    </tr>\n",
       "    <tr>\n",
       "      <th>3518409054</th>\n",
       "      <td>0</td>\n",
       "      <td>0</td>\n",
       "      <td>0</td>\n",
       "      <td>0</td>\n",
       "      <td>0</td>\n",
       "      <td>0</td>\n",
       "      <td>0</td>\n",
       "      <td>0</td>\n",
       "      <td>0</td>\n",
       "      <td>0</td>\n",
       "      <td>...</td>\n",
       "      <td>0</td>\n",
       "      <td>0</td>\n",
       "      <td>0</td>\n",
       "      <td>0</td>\n",
       "      <td>0</td>\n",
       "      <td>0</td>\n",
       "      <td>0</td>\n",
       "      <td>0</td>\n",
       "      <td>0</td>\n",
       "      <td>0</td>\n",
       "    </tr>\n",
       "    <tr>\n",
       "      <th>3173194022</th>\n",
       "      <td>0</td>\n",
       "      <td>0</td>\n",
       "      <td>0</td>\n",
       "      <td>0</td>\n",
       "      <td>0</td>\n",
       "      <td>0</td>\n",
       "      <td>0</td>\n",
       "      <td>0</td>\n",
       "      <td>0</td>\n",
       "      <td>0</td>\n",
       "      <td>...</td>\n",
       "      <td>0</td>\n",
       "      <td>0</td>\n",
       "      <td>0</td>\n",
       "      <td>0</td>\n",
       "      <td>0</td>\n",
       "      <td>0</td>\n",
       "      <td>0</td>\n",
       "      <td>0</td>\n",
       "      <td>0</td>\n",
       "      <td>0</td>\n",
       "    </tr>\n",
       "    <tr>\n",
       "      <th>4292984610</th>\n",
       "      <td>0</td>\n",
       "      <td>0</td>\n",
       "      <td>0</td>\n",
       "      <td>0</td>\n",
       "      <td>0</td>\n",
       "      <td>0</td>\n",
       "      <td>0</td>\n",
       "      <td>0</td>\n",
       "      <td>0</td>\n",
       "      <td>0</td>\n",
       "      <td>...</td>\n",
       "      <td>0</td>\n",
       "      <td>0</td>\n",
       "      <td>0</td>\n",
       "      <td>0</td>\n",
       "      <td>0</td>\n",
       "      <td>0</td>\n",
       "      <td>0</td>\n",
       "      <td>0</td>\n",
       "      <td>0</td>\n",
       "      <td>0</td>\n",
       "    </tr>\n",
       "    <tr>\n",
       "      <th>3344589718</th>\n",
       "      <td>0</td>\n",
       "      <td>0</td>\n",
       "      <td>0</td>\n",
       "      <td>0</td>\n",
       "      <td>0</td>\n",
       "      <td>0</td>\n",
       "      <td>0</td>\n",
       "      <td>0</td>\n",
       "      <td>0</td>\n",
       "      <td>0</td>\n",
       "      <td>...</td>\n",
       "      <td>0</td>\n",
       "      <td>0</td>\n",
       "      <td>0</td>\n",
       "      <td>0</td>\n",
       "      <td>0</td>\n",
       "      <td>0</td>\n",
       "      <td>0</td>\n",
       "      <td>0</td>\n",
       "      <td>0</td>\n",
       "      <td>0</td>\n",
       "    </tr>\n",
       "  </tbody>\n",
       "</table>\n",
       "<p>9834 rows × 58322 columns</p>\n",
       "</div>"
      ],
      "text/plain": [
       "            101994422  5016629    298123     80235      17873545   70477358   \\\n",
       "2865723582          5          5          5          5          5          5   \n",
       "512851998           0          0          0          0          0          0   \n",
       "760761146           0          0          0          0          0          0   \n",
       "212815213           0          0          0          0          0          0   \n",
       "3030712126          0          0          0          0          0          0   \n",
       "...               ...        ...        ...        ...        ...        ...   \n",
       "2764649526          0          0          0          0          0          0   \n",
       "3518409054          0          0          0          0          0          0   \n",
       "3173194022          0          0          0          0          0          0   \n",
       "4292984610          0          0          0          0          0          0   \n",
       "3344589718          0          0          0          0          0          0   \n",
       "\n",
       "            21627189   20400529   10205573   2707693    ...  61043278   \\\n",
       "2865723582          4          4          5          5  ...          0   \n",
       "512851998           0          0          0          0  ...          0   \n",
       "760761146           0          0          0          0  ...          0   \n",
       "212815213           0          0          0          0  ...          0   \n",
       "3030712126          4          0          0          5  ...          0   \n",
       "...               ...        ...        ...        ...  ...        ...   \n",
       "2764649526          0          0          0          0  ...          0   \n",
       "3518409054          0          0          0          0  ...          0   \n",
       "3173194022          0          0          0          0  ...          0   \n",
       "4292984610          0          0          0          0  ...          0   \n",
       "3344589718          0          0          0          0  ...          0   \n",
       "\n",
       "            64185254   12447653   376355     35356381   73024842   5851257    \\\n",
       "2865723582          0          0          0          0          0          0   \n",
       "512851998           0          0          0          0          0          0   \n",
       "760761146           0          0          0          0          0          0   \n",
       "212815213           0          0          0          0          0          0   \n",
       "3030712126          0          0          0          0          0          0   \n",
       "...               ...        ...        ...        ...        ...        ...   \n",
       "2764649526          0          0          0          0          0          0   \n",
       "3518409054          0          0          0          0          0          0   \n",
       "3173194022          0          0          0          0          0          0   \n",
       "4292984610          0          0          0          0          0          0   \n",
       "3344589718          0          0          0          0          0          0   \n",
       "\n",
       "            41814697   40265865   49325577   \n",
       "2865723582          0          0          0  \n",
       "512851998           0          0          0  \n",
       "760761146           0          0          0  \n",
       "212815213           0          0          0  \n",
       "3030712126          0          0          0  \n",
       "...               ...        ...        ...  \n",
       "2764649526          0          0          0  \n",
       "3518409054          0          0          0  \n",
       "3173194022          0          0          0  \n",
       "4292984610          0          0          0  \n",
       "3344589718          0          0          0  \n",
       "\n",
       "[9834 rows x 58322 columns]"
      ]
     },
     "execution_count": 14,
     "metadata": {},
     "output_type": "execute_result"
    }
   ],
   "source": [
    "#생성된 데이터프레임 df를 통해 모델링 진행 \n",
    "df"
   ]
  },
  {
   "cell_type": "markdown",
   "metadata": {},
   "source": [
    "### 상품 기반 "
   ]
  },
  {
   "cell_type": "code",
   "execution_count": 85,
   "metadata": {},
   "outputs": [],
   "source": [
    "adj_matrix = df.values # 상품 기반"
   ]
  },
  {
   "cell_type": "markdown",
   "metadata": {},
   "source": [
    "* 유클리드 거리를 사용해 추천\n",
    "$$euclidean = \\sqrt{\\sum_{d=1}^{D}(A_i - B_i)^2}$$\n",
    "* 거리가 가까울 수록(값이 작을 수록) 나와 유사한 사용자"
   ]
  },
  {
   "cell_type": "code",
   "execution_count": 92,
   "metadata": {},
   "outputs": [],
   "source": [
    "target_prod_id, target_prod_vector = 0, adj_matrix[0] #타겟 상품을 특정"
   ]
  },
  {
   "cell_type": "code",
   "execution_count": 96,
   "metadata": {},
   "outputs": [
    {
     "name": "stdout",
     "output_type": "stream",
     "text": [
      "target_prod_id : 2865723582\n",
      "target_prod_title : 0    [컬러푸드] 선착순20%할인쿠폰+해남 후기갑 꿀고구마 중상1kg 정품\\n한입/특상/...\n",
      "Name: title, dtype: object\n"
     ]
    }
   ],
   "source": [
    "temp_prod_id = prod_id_ls[target_prod_id]\n",
    "print('target_prod_id : {}'.format(temp_prod_id))\n",
    "print('target_prod_title : {}'.format(prod_data[prod_data['prod_idx'] == temp_prod_id]['title']))"
   ]
  },
  {
   "cell_type": "code",
   "execution_count": 95,
   "metadata": {},
   "outputs": [
    {
     "name": "stdout",
     "output_type": "stream",
     "text": [
      "Best Match : 327.6232592475693, Best Match ID : 5654\n"
     ]
    }
   ],
   "source": [
    "best_match, best_match_id, best_match_vector = 9999, -1, [] #초기화\n",
    "\n",
    "for prod_id, prod_vector in enumerate(adj_matrix) :\n",
    "    if target_prod_id != prod_id : #타겟 상품과 다른 상품일 경우 유사도 측정\n",
    "        euclidean_dist = np.sqrt(np.sum(np.square(target_prod_vector - prod_vector))) #유클리드 거리 계산\n",
    "        if euclidean_dist < best_match : #유사도가 높은 것으로 best_match 갱신\n",
    "            best_match = euclidean_dist\n",
    "            best_match_id = prod_id\n",
    "            best_match_vector = prod_vector\n",
    "            \n",
    "print('Best Match : {}, Best Match ID : {}'.format(best_match, best_match_id))"
   ]
  },
  {
   "cell_type": "code",
   "execution_count": 97,
   "metadata": {},
   "outputs": [
    {
     "name": "stdout",
     "output_type": "stream",
     "text": [
      "target_prod_id : 3502657066\n",
      "target_prod_title : 15706    매콤한 감성 낙곱새 500g 1팩 /감칠맛 소스 증정\n",
      "Name: title, dtype: object\n"
     ]
    }
   ],
   "source": [
    "#To-Do fix : 추천 상품 갯수 더 늘릴 것\n",
    "recommend_prod_id = prod_id_ls[best_match_id]\n",
    "print('target_prod_id : {}'.format(recommend_prod_id))\n",
    "print('target_prod_title : {}'.format(prod_data[prod_data['prod_idx'] == recommend_prod_id]['title']))"
   ]
  },
  {
   "cell_type": "code",
   "execution_count": null,
   "metadata": {},
   "outputs": [],
   "source": []
  },
  {
   "cell_type": "markdown",
   "metadata": {},
   "source": [
    "* 코사인 유사도를 사용해 추천\n",
    "\n",
    "\\begin{equation}\n",
    "cos \\theta = \\frac{A \\cdot B}{||A|| \\times ||B||}\n",
    "\\end{equation}\n",
    "* 두 벡터가 이루고 있는 각을 계산"
   ]
  },
  {
   "cell_type": "code",
   "execution_count": 98,
   "metadata": {},
   "outputs": [],
   "source": [
    "def compute_cos_similarity(v1, v2) :\n",
    "    norm1 = np.sqrt(np.sum(np.square(v1)))\n",
    "    norm2 = np.sqrt(np.sum(np.square(v2)))\n",
    "    dot = np.dot(v1, v2)\n",
    "    return dot / (norm1 * norm2)"
   ]
  },
  {
   "cell_type": "code",
   "execution_count": 175,
   "metadata": {},
   "outputs": [],
   "source": [
    "target_prod_id, target_prod_vector = 0, adj_matrix[0] #타겟 상품을 특정"
   ]
  },
  {
   "cell_type": "code",
   "execution_count": 176,
   "metadata": {},
   "outputs": [
    {
     "name": "stdout",
     "output_type": "stream",
     "text": [
      "target_prod_id : 2865723582\n",
      "target_prod_title : 0    [컬러푸드] 선착순20%할인쿠폰+해남 후기갑 꿀고구마 중상1kg 정품\\n한입/특상/...\n",
      "Name: title, dtype: object\n"
     ]
    }
   ],
   "source": [
    "temp_prod_id = prod_id_ls[target_prod_id]\n",
    "print('target_prod_id : {}'.format(temp_prod_id))\n",
    "print('target_prod_title : {}'.format(prod_data[prod_data['prod_idx'] == temp_prod_id]['title']))"
   ]
  },
  {
   "cell_type": "code",
   "execution_count": 177,
   "metadata": {},
   "outputs": [
    {
     "name": "stdout",
     "output_type": "stream",
     "text": [
      "Best Match : 0.37967140750126216, Best Match ID : 570\n"
     ]
    }
   ],
   "source": [
    "best_match, best_match_id, best_match_vector = -1, -1, [] #초기화\n",
    "\n",
    "for prod_id, prod_vector in enumerate(adj_matrix) :\n",
    "    if target_prod_id != prod_id : #타겟 상품과 다른 상품일 경우 유사도 측정\n",
    "        cosine_similarity = compute_cos_similarity(target_prod_vector, prod_vector) #코사인 유사도 계산\n",
    "        if cosine_similarity > best_match : #유사도가 높은 것으로 best_match 갱신\n",
    "            best_match = cosine_similarity\n",
    "            best_match_id = prod_id\n",
    "            best_match_vector = prod_vector\n",
    "            \n",
    "print('Best Match : {}, Best Match ID : {}'.format(best_match, best_match_id))"
   ]
  },
  {
   "cell_type": "code",
   "execution_count": 178,
   "metadata": {},
   "outputs": [
    {
     "name": "stdout",
     "output_type": "stream",
     "text": [
      "target_prod_id : 814420358\n",
      "target_prod_title : 1302    [맛있닭] 닭가슴살 도시락/스테이크/스팀/볼 외 71종 5팩 골라담기\n",
      "Name: title, dtype: object\n"
     ]
    }
   ],
   "source": [
    "#To-Do fix : 추천 상품 갯수 더 늘릴 것\n",
    "recommend_prod_id = prod_id_ls[best_match_id]\n",
    "print('target_prod_id : {}'.format(recommend_prod_id))\n",
    "print('target_prod_title : {}'.format(prod_data[prod_data['prod_idx'] == recommend_prod_id]['title']))"
   ]
  },
  {
   "cell_type": "markdown",
   "metadata": {},
   "source": [
    "### 사용자 기반"
   ]
  },
  {
   "cell_type": "code",
   "execution_count": 102,
   "metadata": {},
   "outputs": [],
   "source": [
    "adj_matrix = adj_matrix.T #사용자 기반"
   ]
  },
  {
   "cell_type": "code",
   "execution_count": 84,
   "metadata": {},
   "outputs": [
    {
     "name": "stdout",
     "output_type": "stream",
     "text": [
      "my_id : 101994422\n",
      "my_id가 구매한 상품 목록\n"
     ]
    },
    {
     "data": {
      "text/plain": [
       "0        [컬러푸드] 선착순20%할인쿠폰+해남 후기갑 꿀고구마 중상1kg 정품\\n한입/특상/...\n",
       "5             [컬러푸드] 봉팔형님 국내산 햇 밤꿀고구마 & 호박고구마 3kg 5kg 10kg\n",
       "1266             [퍼스트위크] 티몬블랙딜 통통떡볶이1-2인분 외 순대/튀김/어묵/핫바 모음\n",
       "6041                               2020 씨없는 청도반시 5KG 60과이상\n",
       "18207    [퍼스트위크] 필수특가 개당 175원 롯데 청춘간식 키스틱 20개+사면살수록 늘어나...\n",
       "20665                                [무료배송] 농심 새우깡 90g 10봉\n",
       "Name: title, dtype: object"
      ]
     },
     "execution_count": 84,
     "metadata": {},
     "output_type": "execute_result"
    }
   ],
   "source": [
    "my_id, my_vector = 0, adj_matrix[0] #내 아이디를 특정\n",
    "print('my_id : {}'.format(member_id_ls[my_id]))\n",
    "print('my_id가 구매한 상품 목록')\n",
    "\n",
    "my_id, my_vector = 0, adj_matrix[0]\n",
    "a = list(np.where(my_vector > 0)[0])\n",
    "\n",
    "recommend_prod_list = []\n",
    "for prod_idx in a :\n",
    "    recommend_prod_list.append(prod_id_ls[prod_idx])\n",
    "\n",
    "recommend_prod_titles = prod_data[prod_data['prod_idx'].isin(recommend_prod_list)]['title']\n",
    "recommend_prod_titles"
   ]
  },
  {
   "cell_type": "code",
   "execution_count": 42,
   "metadata": {},
   "outputs": [
    {
     "name": "stdout",
     "output_type": "stream",
     "text": [
      "Best Match : 12.206555615733702, Best Match ID : 1651\n"
     ]
    }
   ],
   "source": [
    "best_match, best_match_id, best_match_vector = 9999, -1, [] #초기화\n",
    "\n",
    "for user_id, user_vector in enumerate(adj_matrix) :\n",
    "    if my_id != user_id : #내 아이디와 다르다면 유사도 측정\n",
    "        euclidean_dist = np.sqrt(np.sum(np.square(my_vector - user_vector)))\n",
    "        if euclidean_dist < best_match : #유사도가 높은 것으로 best_match 갱신\n",
    "            best_match = euclidean_dist\n",
    "            best_match_id = user_id\n",
    "            best_match_vector = user_vector\n",
    "            \n",
    "print('Best Match : {}, Best Match ID : {}'.format(best_match, best_match_id))"
   ]
  },
  {
   "cell_type": "code",
   "execution_count": 43,
   "metadata": {},
   "outputs": [
    {
     "name": "stdout",
     "output_type": "stream",
     "text": [
      "[2564, 4851, 5878]\n"
     ]
    }
   ],
   "source": [
    "#내가 보진 않았지만, best_match_id로 선정된 user가 산 상품들 추천\n",
    "recommend_list = []\n",
    "for i, log in enumerate(zip(my_vector, best_match_vector)) :\n",
    "    log1, log2 = log #log는 (1, 0) 형식의 튜플\n",
    "    if log1 < 1. and log2 > 0. : #나느 보지않았고(1이 아님) best_match_id는 본 상품들을 리스트에 삽입 \n",
    "        recommend_list.append(i)\n",
    "print(recommend_list)"
   ]
  },
  {
   "cell_type": "code",
   "execution_count": 44,
   "metadata": {},
   "outputs": [],
   "source": [
    "recommend_prod_list = []\n",
    "for prod_idx in recommend_list :\n",
    "    recommend_prod_list.append(prod_id_ls[prod_idx])"
   ]
  },
  {
   "cell_type": "code",
   "execution_count": 45,
   "metadata": {},
   "outputs": [
    {
     "data": {
      "text/plain": [
       "6062               [퍼스트위크] 무한타임 고소한 호두 500g+500g외 견과류 건강세일\n",
       "14750    [퍼스트위크] 무한타임 국내산 햇 세세멸치 1kg 박스/옵션2개 구매시 멸치100g 증정\n",
       "18022    [퍼스트위크] 무한타임 맛기차콘 10gX20개 외 추억의 불량식품/수입과자 64종 ...\n",
       "Name: title, dtype: object"
      ]
     },
     "execution_count": 45,
     "metadata": {},
     "output_type": "execute_result"
    }
   ],
   "source": [
    "#추천 리스트 \n",
    "recommend_prod_titles = prod_data[prod_data['prod_idx'].isin(recommend_prod_list)]['title']\n",
    "recommend_prod_titles"
   ]
  },
  {
   "cell_type": "code",
   "execution_count": 38,
   "metadata": {},
   "outputs": [],
   "source": [
    "def compute_cos_similarity(v1, v2) :\n",
    "    norm1 = np.sqrt(np.sum(np.square(v1)))\n",
    "    norm2 = np.sqrt(np.sum(np.square(v2)))\n",
    "    dot = np.dot(v1, v2)\n",
    "    return dot / (norm1 * norm2)"
   ]
  },
  {
   "cell_type": "code",
   "execution_count": 39,
   "metadata": {},
   "outputs": [
    {
     "name": "stdout",
     "output_type": "stream",
     "text": [
      "Best Match : 0.37967140750126216, Best Match ID : 570\n"
     ]
    }
   ],
   "source": [
    "my_id, my_vector = 0, adj_matrix[0] #내 아이디를 특정\n",
    "best_match, best_match_id, best_match_vector = -1, -1, [] #초기화\n",
    "\n",
    "for user_id, user_vector in enumerate(adj_matrix) :\n",
    "    if my_id != user_id : #내 아이디와 다르다면 유사도 측정\n",
    "        cosine_similarity = compute_cos_similarity(my_vector, user_vector)\n",
    "        if cosine_similarity > best_match : #유사도가 높은 것으로 best_match 갱신\n",
    "            best_match = cosine_similarity\n",
    "            best_match_id = user_id\n",
    "            best_match_vector = user_vector\n",
    "            \n",
    "print('Best Match : {}, Best Match ID : {}'.format(best_match, best_match_id))"
   ]
  },
  {
   "cell_type": "code",
   "execution_count": 34,
   "metadata": {},
   "outputs": [
    {
     "name": "stdout",
     "output_type": "stream",
     "text": [
      "[4, 20, 532, 3900]\n"
     ]
    }
   ],
   "source": [
    "#내가 보진 않았지만, best_match_id로 선정된 user가 본 상품들 추천\n",
    "recommend_list = []\n",
    "for i, log in enumerate(zip(my_vector, best_match_vector)) :\n",
    "    log1, log2 = log #log는 (1, 0) 형식의 튜플\n",
    "    if log1 < 1. and log2 > 0. : #나느 보지않았고(1이 아님) best_match_id는 본 상품들을 리스트에 삽입 \n",
    "        recommend_list.append(i)\n",
    "print(recommend_list)"
   ]
  },
  {
   "cell_type": "code",
   "execution_count": 40,
   "metadata": {},
   "outputs": [],
   "source": [
    "recommend_prod_list = []\n",
    "for prod_idx in recommend_list :\n",
    "    recommend_prod_list.append(prod_id_ls[prod_idx])"
   ]
  },
  {
   "cell_type": "code",
   "execution_count": 41,
   "metadata": {},
   "outputs": [
    {
     "data": {
      "text/plain": [
       "4        [봉팔형님] 밤꿀고구마 중 1kg 외 꿀고구마 4종 크기별 모음 / 2개 구매시 3...\n",
       "20       [퍼스트위크] 티몬블랙딜 봉팔형님 햇 밤꿀고구마 중 1kg 외 꿀고구마 4종 크기별...\n",
       "1267                        [무료배송] 홍코너 떡볶이 1+1+1+1+1 /총 5봉\n",
       "10311    [퍼스트위크] 무한타임 오일가게 이태리 직수입 올리브유 포도씨유 해바라기씨유 250...\n",
       "Name: title, dtype: object"
      ]
     },
     "execution_count": 41,
     "metadata": {},
     "output_type": "execute_result"
    }
   ],
   "source": [
    "#추천 리스트 \n",
    "recommend_prod_titles = prod_data[prod_data['prod_idx'].isin(recommend_prod_list)]['title']\n",
    "recommend_prod_titles"
   ]
  },
  {
   "cell_type": "code",
   "execution_count": null,
   "metadata": {},
   "outputs": [],
   "source": []
  },
  {
   "cell_type": "code",
   "execution_count": 103,
   "metadata": {},
   "outputs": [
    {
     "data": {
      "text/plain": [
       "array([[5, 0, 0, ..., 0, 0, 0],\n",
       "       [5, 0, 0, ..., 0, 0, 0],\n",
       "       [5, 0, 0, ..., 0, 0, 0],\n",
       "       ...,\n",
       "       [0, 0, 0, ..., 0, 0, 0],\n",
       "       [0, 0, 0, ..., 0, 0, 0],\n",
       "       [0, 0, 0, ..., 0, 0, 0]], dtype=int64)"
      ]
     },
     "execution_count": 103,
     "metadata": {},
     "output_type": "execute_result"
    }
   ],
   "source": [
    "adj_matrix"
   ]
  },
  {
   "cell_type": "code",
   "execution_count": 104,
   "metadata": {},
   "outputs": [],
   "source": [
    "#U :사용자, S :특이값 벡터, V : 아이템\n",
    "U, S, V = randomized_svd(adj_matrix, n_components =2 )\n",
    "S = np.diag(S)"
   ]
  },
  {
   "cell_type": "code",
   "execution_count": 142,
   "metadata": {},
   "outputs": [
    {
     "name": "stdout",
     "output_type": "stream",
     "text": [
      "(58322, 2)\n",
      "(2, 2)\n",
      "(2, 9834)\n"
     ]
    }
   ],
   "source": [
    "print(U.shape)\n",
    "print(S.shape)\n",
    "print(V.shape)"
   ]
  },
  {
   "cell_type": "code",
   "execution_count": 124,
   "metadata": {},
   "outputs": [
    {
     "data": {
      "text/plain": [
       "array([[2.02435407e+00, 3.07905875e-02, 2.13847754e-02, ...,\n",
       "        5.68679963e-04, 1.47990543e-03, 4.52472785e-04],\n",
       "       [2.13996783e+00, 3.47814314e-02, 2.48915635e-02, ...,\n",
       "        6.70562488e-04, 1.63054059e-03, 4.92017964e-04],\n",
       "       [5.40767338e+00, 9.16877758e-02, 6.67865190e-02, ...,\n",
       "        1.81250700e-03, 4.23276866e-03, 1.26662322e-03],\n",
       "       ...,\n",
       "       [5.14308979e-02, 9.12393572e-04, 6.76525391e-04, ...,\n",
       "        1.84935676e-05, 4.14525287e-05, 1.22943654e-05],\n",
       "       [2.92482057e-02, 5.07993571e-04, 3.73599047e-04, ...,\n",
       "        1.01789896e-05, 2.32515284e-05, 6.92491653e-06],\n",
       "       [1.56081585e-01, 3.26326664e-03, 2.55922217e-03, ...,\n",
       "        7.14934612e-05, 1.40440622e-04, 4.03454139e-05]])"
      ]
     },
     "execution_count": 124,
     "metadata": {},
     "output_type": "execute_result"
    }
   ],
   "source": [
    "np.matmul(np.matmul(U,S), V) #복원된 인접행렬"
   ]
  },
  {
   "cell_type": "code",
   "execution_count": 137,
   "metadata": {},
   "outputs": [
    {
     "name": "stdout",
     "output_type": "stream",
     "text": [
      "my_id : 347179\n",
      "my_id가 구매한 상품 목록\n"
     ]
    },
    {
     "data": {
      "text/plain": [
       "0        [컬러푸드] 선착순20%할인쿠폰+해남 후기갑 꿀고구마 중상1kg 정품\\n한입/특상/...\n",
       "1215           [퍼스트위크] 티몬블랙딜 쉐프330 오리지널 떡볶이 2인분 외 7종+사은품증정\n",
       "1261               [퍼스트위크] 필수특가 삼시세떡 국물떡볶이 320g 외 야끼만두 김말이\n",
       "1437     [퍼스트위크] 티몬블랙딜 천일 볶음밥 10봉+떡갈비1봉 골라담기/야채/김치/새우/라...\n",
       "18192                [퍼스트위크] 무한타임 수입과자가게 사탕 초콜릿 과자 스낵 113종\n",
       "Name: title, dtype: object"
      ]
     },
     "execution_count": 137,
     "metadata": {},
     "output_type": "execute_result"
    }
   ],
   "source": [
    "#생성된 U를 활용\n",
    "target_id_idx = 20 #내 아이디를 특정\n",
    "my_id, my_vector = target_id_idx, U[target_id_idx] \n",
    "print('my_id : {}'.format(member_id_ls[my_id]))\n",
    "print('my_id가 구매한 상품 목록')\n",
    "\n",
    "a = list(np.where(my_vector > 0)[0])\n",
    "\n",
    "recommend_prod_list = []\n",
    "for prod_idx in a :\n",
    "    recommend_prod_list.append(prod_id_ls[prod_idx])\n",
    "\n",
    "recommend_prod_titles = prod_data[prod_data['prod_idx'].isin(recommend_prod_list)]['title']\n",
    "recommend_prod_titles"
   ]
  },
  {
   "cell_type": "code",
   "execution_count": 148,
   "metadata": {},
   "outputs": [
    {
     "name": "stdout",
     "output_type": "stream",
     "text": [
      "Best Match : 0.9999999999983664, Best Match ID : 2091\n"
     ]
    }
   ],
   "source": [
    "#생성된 U를 활용\n",
    "best_match, best_match_id, best_match_vector = -1, -1, [] #초기화\n",
    "\n",
    "for user_id, user_vector in enumerate(U) :\n",
    "    if my_id != user_id : #내 아이디와 다르다면 유사도 측정\n",
    "        cosine_similarity = compute_cos_similarity(my_vector, user_vector)\n",
    "        if cosine_similarity > best_match : #유사도가 높은 것으로 best_match 갱신\n",
    "            best_match = cosine_similarity\n",
    "            best_match_id = user_id\n",
    "            best_match_vector = user_vector\n",
    "            \n",
    "print('Best Match : {}, Best Match ID : {}'.format(best_match, best_match_id))"
   ]
  },
  {
   "cell_type": "code",
   "execution_count": 158,
   "metadata": {},
   "outputs": [
    {
     "name": "stdout",
     "output_type": "stream",
     "text": [
      "[7, 21, 27, 31, 165, 637, 1205, 2533, 4823, 8621]\n"
     ]
    }
   ],
   "source": [
    "#내가 보진 않았지만, best_match_id로 선정된 user가 본 상품들 추천\n",
    "recommend_list = []\n",
    "for i, log in enumerate(zip(adj_matrix[my_id], adj_matrix[best_match_id])) :\n",
    "    log1, log2 = log #log는 (1, 0) 형식의 튜플\n",
    "    if log1 < 1. and log2 > 0. : #나느 보지않았고(1이 아님) best_match_id는 본 상품들을 리스트에 삽입 \n",
    "        recommend_list.append(i)\n",
    "print(recommend_list)"
   ]
  },
  {
   "cell_type": "code",
   "execution_count": 159,
   "metadata": {},
   "outputs": [],
   "source": [
    "recommend_prod_list = []\n",
    "for prod_idx in recommend_list :\n",
    "    recommend_prod_list.append(prod_id_ls[prod_idx])"
   ]
  },
  {
   "cell_type": "code",
   "execution_count": 160,
   "metadata": {},
   "outputs": [
    {
     "data": {
      "text/plain": [
       "7                                샐러드미인 샐러드/푸딩 1kg 1+1 골라담기\n",
       "21       [퍼스트위크] 무한타임 그린투유 양파농가돕기 19년 무안 햇양파 특 5kg/햇 수미...\n",
       "27                 [트래블경북] 20년 포슬포슬 수미감자 10kg,20kg/대용량/식당용\n",
       "31       냉동야채16종모음 브로콜리 컬리플라워 그린빈 오크라 미니양배추 혼합야채 미니당근 단...\n",
       "175                           국내산 창녕 남해 햇 깐마늘 5kg (중소/중/대)\n",
       "1366              [퍼스트위크] 티몬블랙딜 구어유 1+1+1 1kg/닭날개/닭다리 소스2덤\n",
       "1971                      [신일푸드팜] 엄지식품 납작당면군만두 야끼만두 1.400g\n",
       "6031                              성주 참외 대용량 11kg /소과/중과/대과\n",
       "14722                 [퍼스트위크] 무한타임 국내산 세세멸치 1kg/ 다시멸치/ 밥새우\n",
       "27831                   국산 현미쌀 2/4/10kg (무농약현미,유기농현미,발아현미)\n",
       "Name: title, dtype: object"
      ]
     },
     "execution_count": 160,
     "metadata": {},
     "output_type": "execute_result"
    }
   ],
   "source": [
    "#추천 리스트 \n",
    "recommend_prod_titles = prod_data[prod_data['prod_idx'].isin(recommend_prod_list)]['title']\n",
    "recommend_prod_titles"
   ]
  },
  {
   "cell_type": "markdown",
   "metadata": {},
   "source": [
    "- 상품기반 추천"
   ]
  },
  {
   "cell_type": "code",
   "execution_count": 171,
   "metadata": {},
   "outputs": [],
   "source": [
    "target_prod_idx = 100 #타겟 상품 특정\n",
    "target_prod_id, target_prod_vector = target_prod_idx, V.T[target_prod_idx] # 항목기반. V는 곱으로 decompositon 해줬기때문에 트랜스포즈 필요"
   ]
  },
  {
   "cell_type": "code",
   "execution_count": 172,
   "metadata": {},
   "outputs": [
    {
     "name": "stdout",
     "output_type": "stream",
     "text": [
      "target_prod_id : 4262926378\n",
      "target_prod_title : 102    2020년 수확 포슬포슬 황토 산앤들 햇수미감자 4.5kg 중대과 /2BOX 구매시...\n",
      "Name: title, dtype: object\n"
     ]
    }
   ],
   "source": [
    "temp_prod_id = prod_id_ls[target_prod_id]\n",
    "print('target_prod_id : {}'.format(temp_prod_id))\n",
    "print('target_prod_title : {}'.format(prod_data[prod_data['prod_idx'] == temp_prod_id]['title']))"
   ]
  },
  {
   "cell_type": "code",
   "execution_count": 173,
   "metadata": {},
   "outputs": [
    {
     "name": "stdout",
     "output_type": "stream",
     "text": [
      "Best Match : 0.9999999955292285, Best Match ID : 2986\n"
     ]
    }
   ],
   "source": [
    "#생성된 V를 활용\n",
    "best_match, best_match_id, best_match_vector = -1, -1, [] #초기화\n",
    "\n",
    "for prod_id, prod_vector in enumerate(V.T) :\n",
    "    if target_prod_id != prod_id : #내 아이디와 다르다면 유사도 측정\n",
    "        cosine_similarity = compute_cos_similarity(target_prod_vector, prod_vector)\n",
    "        if cosine_similarity > best_match : #유사도가 높은 것으로 best_match 갱신\n",
    "            best_match = cosine_similarity\n",
    "            best_match_id = prod_id\n",
    "            best_match_vector = user_vector\n",
    "            \n",
    "print('Best Match : {}, Best Match ID : {}'.format(best_match, best_match_id))"
   ]
  },
  {
   "cell_type": "code",
   "execution_count": 174,
   "metadata": {},
   "outputs": [
    {
     "name": "stdout",
     "output_type": "stream",
     "text": [
      "target_prod_id : 648232986\n",
      "target_prod_title : 7346    [대천김] 최신제조 대천김 모음전 무료배송\n",
      "Name: title, dtype: object\n"
     ]
    }
   ],
   "source": [
    "#To-Do fix : 추천 상품 갯수 더 늘릴 것\n",
    "recommend_prod_id = prod_id_ls[best_match_id]\n",
    "print('target_prod_id : {}'.format(recommend_prod_id))\n",
    "print('target_prod_title : {}'.format(prod_data[prod_data['prod_idx'] == recommend_prod_id]['title']))"
   ]
  },
  {
   "cell_type": "code",
   "execution_count": null,
   "metadata": {},
   "outputs": [],
   "source": []
  },
  {
   "cell_type": "markdown",
   "metadata": {
    "id": "pKQvtsfX2bRf"
   },
   "source": [
    "## Surprise\n",
    "\n",
    "* 추천 시스템 개발을 위한 라이브러리\n",
    "* 다양한 모델과 데이터 제공\n",
    "* scikit-learn과 유사한 사용 방법"
   ]
  },
  {
   "cell_type": "code",
   "execution_count": 1,
   "metadata": {
    "colab": {
     "base_uri": "https://localhost:8080/",
     "height": 108
    },
    "executionInfo": {
     "elapsed": 4017,
     "status": "ok",
     "timestamp": 1598386179447,
     "user": {
      "displayName": "Suan Lee",
      "photoUrl": "https://lh3.googleusercontent.com/a-/AOh14Ggrbbtm0GIFbgQl9jEH-C8dVBtk90Lcr33g5Dx5OJo=s64",
      "userId": "05284829446034665596"
     },
     "user_tz": -540
    },
    "id": "AvuLuP8J16Eb",
    "outputId": "05aa11c5-28f1-4ce1-f1ec-c5a7daee77f6"
   },
   "outputs": [
    {
     "name": "stdout",
     "output_type": "stream",
     "text": [
      "Requirement already satisfied: scikit-surprise in c:\\users\\bae\\.conda\\envs\\study\\lib\\site-packages (1.1.1)\n",
      "Requirement already satisfied: joblib>=0.11 in c:\\users\\bae\\.conda\\envs\\study\\lib\\site-packages (from scikit-surprise) (0.17.0)\n",
      "Requirement already satisfied: scipy>=1.0.0 in c:\\users\\bae\\.conda\\envs\\study\\lib\\site-packages (from scikit-surprise) (1.4.1)\n",
      "Requirement already satisfied: six>=1.10.0 in c:\\users\\bae\\.conda\\envs\\study\\lib\\site-packages (from scikit-surprise) (1.15.0)\n",
      "Requirement already satisfied: numpy>=1.11.2 in c:\\users\\bae\\.conda\\envs\\study\\lib\\site-packages (from scikit-surprise) (1.18.5)\n"
     ]
    }
   ],
   "source": [
    "!pip install scikit-surprise\n",
    "#설치 안될시\n",
    "#1. 터미널에 conda install -c conda-forge scikit-surprise 입력\n",
    "#2. PackagesNotFoundError: The following packages are not available from current channels: 에러발생시\n",
    "#2-1. conda config --append channels conda-forge 입력 후 다시 시도"
   ]
  },
  {
   "cell_type": "code",
   "execution_count": 192,
   "metadata": {
    "id": "FXrDk0XH2vbx"
   },
   "outputs": [],
   "source": [
    "from surprise import KNNBasic, SVD, SVDpp, NMF, BaselineOnly, KNNBasic, KNNWithMeans, KNNWithZScore, CoClustering, NormalPredictor, SlopeOne\n",
    "from surprise.accuracy import rmse, mae\n",
    "from surprise import Dataset\n",
    "from surprise.model_selection import cross_validate\n",
    "from surprise import Reader"
   ]
  },
  {
   "cell_type": "code",
   "execution_count": null,
   "metadata": {},
   "outputs": [],
   "source": []
  },
  {
   "cell_type": "code",
   "execution_count": 180,
   "metadata": {},
   "outputs": [
    {
     "data": {
      "text/html": [
       "<div>\n",
       "<style scoped>\n",
       "    .dataframe tbody tr th:only-of-type {\n",
       "        vertical-align: middle;\n",
       "    }\n",
       "\n",
       "    .dataframe tbody tr th {\n",
       "        vertical-align: top;\n",
       "    }\n",
       "\n",
       "    .dataframe thead th {\n",
       "        text-align: right;\n",
       "    }\n",
       "</style>\n",
       "<table border=\"1\" class=\"dataframe\">\n",
       "  <thead>\n",
       "    <tr style=\"text-align: right;\">\n",
       "      <th></th>\n",
       "      <th>memberSrl</th>\n",
       "      <th>prod_idx</th>\n",
       "      <th>prod_satis</th>\n",
       "    </tr>\n",
       "  </thead>\n",
       "  <tbody>\n",
       "    <tr>\n",
       "      <th>0</th>\n",
       "      <td>101994422</td>\n",
       "      <td>2865723582</td>\n",
       "      <td>5</td>\n",
       "    </tr>\n",
       "    <tr>\n",
       "      <th>1</th>\n",
       "      <td>5016629</td>\n",
       "      <td>2865723582</td>\n",
       "      <td>5</td>\n",
       "    </tr>\n",
       "    <tr>\n",
       "      <th>2</th>\n",
       "      <td>298123</td>\n",
       "      <td>2865723582</td>\n",
       "      <td>5</td>\n",
       "    </tr>\n",
       "    <tr>\n",
       "      <th>3</th>\n",
       "      <td>80235</td>\n",
       "      <td>2865723582</td>\n",
       "      <td>5</td>\n",
       "    </tr>\n",
       "    <tr>\n",
       "      <th>4</th>\n",
       "      <td>17873545</td>\n",
       "      <td>2865723582</td>\n",
       "      <td>5</td>\n",
       "    </tr>\n",
       "    <tr>\n",
       "      <th>...</th>\n",
       "      <td>...</td>\n",
       "      <td>...</td>\n",
       "      <td>...</td>\n",
       "    </tr>\n",
       "    <tr>\n",
       "      <th>568705</th>\n",
       "      <td>153566</td>\n",
       "      <td>3873456926</td>\n",
       "      <td>5</td>\n",
       "    </tr>\n",
       "    <tr>\n",
       "      <th>568706</th>\n",
       "      <td>22123157</td>\n",
       "      <td>3873456926</td>\n",
       "      <td>5</td>\n",
       "    </tr>\n",
       "    <tr>\n",
       "      <th>568707</th>\n",
       "      <td>80018294</td>\n",
       "      <td>3873456926</td>\n",
       "      <td>5</td>\n",
       "    </tr>\n",
       "    <tr>\n",
       "      <th>568709</th>\n",
       "      <td>21201529</td>\n",
       "      <td>3873456926</td>\n",
       "      <td>5</td>\n",
       "    </tr>\n",
       "    <tr>\n",
       "      <th>568710</th>\n",
       "      <td>928771</td>\n",
       "      <td>4346584706</td>\n",
       "      <td>5</td>\n",
       "    </tr>\n",
       "  </tbody>\n",
       "</table>\n",
       "<p>556264 rows × 3 columns</p>\n",
       "</div>"
      ],
      "text/plain": [
       "        memberSrl    prod_idx  prod_satis\n",
       "0       101994422  2865723582           5\n",
       "1         5016629  2865723582           5\n",
       "2          298123  2865723582           5\n",
       "3           80235  2865723582           5\n",
       "4        17873545  2865723582           5\n",
       "...           ...         ...         ...\n",
       "568705     153566  3873456926           5\n",
       "568706   22123157  3873456926           5\n",
       "568707   80018294  3873456926           5\n",
       "568709   21201529  3873456926           5\n",
       "568710     928771  4346584706           5\n",
       "\n",
       "[556264 rows x 3 columns]"
      ]
     },
     "execution_count": 180,
     "metadata": {},
     "output_type": "execute_result"
    }
   ],
   "source": [
    "review_data[['memberSrl', 'prod_idx', 'prod_satis']]"
   ]
  },
  {
   "cell_type": "code",
   "execution_count": 182,
   "metadata": {},
   "outputs": [],
   "source": [
    "#pandas 데이터 프레임으로부터 데이터셋을 로딩하기 위해, load_from_df() 메소드 사용\n",
    "#Reader object와 rating_scale 파라미터 특정\n",
    "#데이터 프레임의 형태는 사용자 id, 아이템 id, 평가\n",
    "reader = Reader(rating_scale=(0, 9))\n",
    "data = Dataset.load_from_df(review_data[['memberSrl', 'prod_idx', 'prod_satis']], reader)"
   ]
  },
  {
   "cell_type": "code",
   "execution_count": 200,
   "metadata": {},
   "outputs": [
    {
     "name": "stdout",
     "output_type": "stream",
     "text": [
      "Estimating biases using als...\n",
      "Estimating biases using als...\n",
      "Estimating biases using als...\n",
      "Estimating biases using als...\n",
      "Estimating biases using als...\n"
     ]
    },
    {
     "ename": "KeyError",
     "evalue": "\"None of ['model'] are in the columns\"",
     "output_type": "error",
     "traceback": [
      "\u001b[1;31m---------------------------------------------------------------------------\u001b[0m",
      "\u001b[1;31mKeyError\u001b[0m                                  Traceback (most recent call last)",
      "\u001b[1;32m<ipython-input-200-7ceed36dc775>\u001b[0m in \u001b[0;36m<module>\u001b[1;34m\u001b[0m\n\u001b[0;32m      8\u001b[0m     \u001b[0mbenchmark\u001b[0m\u001b[1;33m.\u001b[0m\u001b[0mappend\u001b[0m\u001b[1;33m(\u001b[0m\u001b[0mtemp\u001b[0m\u001b[1;33m)\u001b[0m\u001b[1;33m\u001b[0m\u001b[1;33m\u001b[0m\u001b[0m\n\u001b[0;32m      9\u001b[0m \u001b[1;33m\u001b[0m\u001b[0m\n\u001b[1;32m---> 10\u001b[1;33m \u001b[0mpd\u001b[0m\u001b[1;33m.\u001b[0m\u001b[0mDataFrame\u001b[0m\u001b[1;33m(\u001b[0m\u001b[0mbenchmark\u001b[0m\u001b[1;33m)\u001b[0m\u001b[1;33m.\u001b[0m\u001b[0mset_index\u001b[0m\u001b[1;33m(\u001b[0m\u001b[1;34m'model'\u001b[0m\u001b[1;33m)\u001b[0m\u001b[1;33m.\u001b[0m\u001b[0msort_values\u001b[0m\u001b[1;33m(\u001b[0m\u001b[1;34m'test_rmse'\u001b[0m\u001b[1;33m)\u001b[0m\u001b[1;33m\u001b[0m\u001b[1;33m\u001b[0m\u001b[0m\n\u001b[0m",
      "\u001b[1;32mC:\\ProgramData\\Anaconda3\\lib\\site-packages\\pandas\\core\\frame.py\u001b[0m in \u001b[0;36mset_index\u001b[1;34m(self, keys, drop, append, inplace, verify_integrity)\u001b[0m\n\u001b[0;32m   4301\u001b[0m \u001b[1;33m\u001b[0m\u001b[0m\n\u001b[0;32m   4302\u001b[0m         \u001b[1;32mif\u001b[0m \u001b[0mmissing\u001b[0m\u001b[1;33m:\u001b[0m\u001b[1;33m\u001b[0m\u001b[1;33m\u001b[0m\u001b[0m\n\u001b[1;32m-> 4303\u001b[1;33m             \u001b[1;32mraise\u001b[0m \u001b[0mKeyError\u001b[0m\u001b[1;33m(\u001b[0m\u001b[1;34mf\"None of {missing} are in the columns\"\u001b[0m\u001b[1;33m)\u001b[0m\u001b[1;33m\u001b[0m\u001b[1;33m\u001b[0m\u001b[0m\n\u001b[0m\u001b[0;32m   4304\u001b[0m \u001b[1;33m\u001b[0m\u001b[0m\n\u001b[0;32m   4305\u001b[0m         \u001b[1;32mif\u001b[0m \u001b[0minplace\u001b[0m\u001b[1;33m:\u001b[0m\u001b[1;33m\u001b[0m\u001b[1;33m\u001b[0m\u001b[0m\n",
      "\u001b[1;31mKeyError\u001b[0m: \"None of ['model'] are in the columns\""
     ]
    }
   ],
   "source": [
    "benchmark = []\n",
    "#rmse(Root Mean Squared Error), MAE(Mean Absolute Error)\n",
    "for model in [SVD(), NMF(), BaselineOnly(), CoClustering()] :\n",
    "    results = cross_validate(model, data, measures=['rmse', 'mae'], cv = 5, verbose = False)\n",
    "    \n",
    "    temp = pd.DataFrame.from_dict(results).mean(axis = 0)\n",
    "    temp = temp.append(pd.Series([str(model).split('.')[-1]], index =['Model']))\n",
    "    benchmark.append(temp)"
   ]
  },
  {
   "cell_type": "code",
   "execution_count": 215,
   "metadata": {},
   "outputs": [],
   "source": [
    "surprise_results = pd.DataFrame(benchmark).set_index('Model').sort_values('test_rmse')"
   ]
  },
  {
   "cell_type": "code",
   "execution_count": 216,
   "metadata": {},
   "outputs": [
    {
     "data": {
      "text/html": [
       "<div>\n",
       "<style scoped>\n",
       "    .dataframe tbody tr th:only-of-type {\n",
       "        vertical-align: middle;\n",
       "    }\n",
       "\n",
       "    .dataframe tbody tr th {\n",
       "        vertical-align: top;\n",
       "    }\n",
       "\n",
       "    .dataframe thead th {\n",
       "        text-align: right;\n",
       "    }\n",
       "</style>\n",
       "<table border=\"1\" class=\"dataframe\">\n",
       "  <thead>\n",
       "    <tr style=\"text-align: right;\">\n",
       "      <th></th>\n",
       "      <th>test_rmse</th>\n",
       "      <th>test_mae</th>\n",
       "      <th>fit_time</th>\n",
       "      <th>test_time</th>\n",
       "    </tr>\n",
       "    <tr>\n",
       "      <th>Model</th>\n",
       "      <th></th>\n",
       "      <th></th>\n",
       "      <th></th>\n",
       "      <th></th>\n",
       "    </tr>\n",
       "  </thead>\n",
       "  <tbody>\n",
       "    <tr>\n",
       "      <th>SVD</th>\n",
       "      <td>0.367415</td>\n",
       "      <td>0.289661</td>\n",
       "      <td>25.587984</td>\n",
       "      <td>1.085115</td>\n",
       "    </tr>\n",
       "    <tr>\n",
       "      <th>CoClustering</th>\n",
       "      <td>0.368986</td>\n",
       "      <td>0.243414</td>\n",
       "      <td>18.426157</td>\n",
       "      <td>0.853321</td>\n",
       "    </tr>\n",
       "    <tr>\n",
       "      <th>BaselineOnly</th>\n",
       "      <td>0.375273</td>\n",
       "      <td>0.311638</td>\n",
       "      <td>2.394998</td>\n",
       "      <td>0.540774</td>\n",
       "    </tr>\n",
       "    <tr>\n",
       "      <th>NMF</th>\n",
       "      <td>0.509330</td>\n",
       "      <td>0.426607</td>\n",
       "      <td>33.571784</td>\n",
       "      <td>0.923151</td>\n",
       "    </tr>\n",
       "  </tbody>\n",
       "</table>\n",
       "</div>"
      ],
      "text/plain": [
       "               test_rmse  test_mae   fit_time  test_time\n",
       "Model                                                   \n",
       "SVD             0.367415  0.289661  25.587984   1.085115\n",
       "CoClustering    0.368986  0.243414  18.426157   0.853321\n",
       "BaselineOnly    0.375273  0.311638   2.394998   0.540774\n",
       "NMF             0.509330  0.426607  33.571784   0.923151"
      ]
     },
     "execution_count": 216,
     "metadata": {},
     "output_type": "execute_result"
    }
   ],
   "source": [
    "surprise_results"
   ]
  },
  {
   "cell_type": "code",
   "execution_count": 185,
   "metadata": {},
   "outputs": [
    {
     "name": "stdout",
     "output_type": "stream",
     "text": [
      "Evaluating RMSE, MAE of algorithm SVD on 5 split(s).\n",
      "\n",
      "                  Fold 1  Fold 2  Fold 3  Fold 4  Fold 5  Mean    Std     \n",
      "RMSE (testset)    0.3664  0.3683  0.3660  0.3683  0.3680  0.3674  0.0010  \n",
      "MAE (testset)     0.2889  0.2909  0.2884  0.2904  0.2903  0.2898  0.0009  \n",
      "Fit time          25.22   25.44   24.87   24.65   25.28   25.09   0.29    \n",
      "Test time         0.83    0.84    1.22    0.78    1.31    0.99    0.22    \n"
     ]
    },
    {
     "data": {
      "text/plain": [
       "{'test_rmse': array([0.36638339, 0.36832695, 0.36599199, 0.36829674, 0.36800351]),\n",
       " 'test_mae': array([0.28893044, 0.29090415, 0.28843439, 0.29039475, 0.29031798]),\n",
       " 'fit_time': (25.215593814849854,\n",
       "  25.43500828742981,\n",
       "  24.869486093521118,\n",
       "  24.646082639694214,\n",
       "  25.27839231491089),\n",
       " 'test_time': (0.8277878761291504,\n",
       "  0.840752124786377,\n",
       "  1.2187750339508057,\n",
       "  0.7759263515472412,\n",
       "  1.3075480461120605)}"
      ]
     },
     "execution_count": 185,
     "metadata": {},
     "output_type": "execute_result"
    }
   ],
   "source": [
    "model = SVD()\n",
    "cross_validate(model, data, measures=['rmse', 'mae'], cv = 5, verbose = True)"
   ]
  },
  {
   "cell_type": "code",
   "execution_count": 189,
   "metadata": {},
   "outputs": [],
   "source": [
    "#메모리 문제\n",
    "# model = KNNBasic()\n",
    "# cross_validate(model, data, measures=['rmse', 'mae'], cv = 5, n_jobs =4, verbose = True)"
   ]
  },
  {
   "cell_type": "code",
   "execution_count": 190,
   "metadata": {},
   "outputs": [
    {
     "name": "stdout",
     "output_type": "stream",
     "text": [
      "Evaluating RMSE, MAE of algorithm NMF on 5 split(s).\n",
      "\n",
      "                  Fold 1  Fold 2  Fold 3  Fold 4  Fold 5  Mean    Std     \n",
      "RMSE (testset)    0.5081  0.5104  0.5121  0.5090  0.5080  0.5095  0.0015  \n",
      "MAE (testset)     0.4256  0.4268  0.4301  0.4271  0.4259  0.4271  0.0016  \n",
      "Fit time          39.51   43.32   43.33   40.77   35.09   40.40   3.04    \n",
      "Test time         1.27    1.24    1.14    0.89    0.88    1.08    0.17    \n"
     ]
    },
    {
     "data": {
      "text/plain": [
       "{'test_rmse': array([0.50809714, 0.5103615 , 0.51206417, 0.50901538, 0.50800927]),\n",
       " 'test_mae': array([0.42563666, 0.42681899, 0.43010389, 0.42711685, 0.42585516]),\n",
       " 'fit_time': (39.50639200210571,\n",
       "  43.31521010398865,\n",
       "  43.32518434524536,\n",
       "  40.7690167427063,\n",
       "  35.08920073509216),\n",
       " 'test_time': (1.2696053981781006,\n",
       "  1.2386889457702637,\n",
       "  1.1389541625976562,\n",
       "  0.8896465301513672,\n",
       "  0.8786842823028564)}"
      ]
     },
     "execution_count": 190,
     "metadata": {},
     "output_type": "execute_result"
    }
   ],
   "source": [
    "model = NMF()\n",
    "cross_validate(model, data, measures=['rmse', 'mae'], cv = 5, n_jobs =4, verbose = True)"
   ]
  },
  {
   "cell_type": "code",
   "execution_count": 194,
   "metadata": {},
   "outputs": [
    {
     "name": "stdout",
     "output_type": "stream",
     "text": [
      "Evaluating RMSE, MAE of algorithm BaselineOnly on 5 split(s).\n",
      "\n",
      "                  Fold 1  Fold 2  Fold 3  Fold 4  Fold 5  Mean    Std     \n",
      "RMSE (testset)    0.3742  0.3752  0.3772  0.3750  0.3748  0.3753  0.0010  \n",
      "MAE (testset)     0.3109  0.3116  0.3130  0.3115  0.3111  0.3116  0.0007  \n",
      "Fit time          0.40    0.40    0.39    0.51    0.40    0.42    0.04    \n",
      "Test time         0.67    0.76    0.77    0.73    0.82    0.75    0.05    \n"
     ]
    },
    {
     "data": {
      "text/plain": [
       "{'test_rmse': array([0.37416734, 0.37520402, 0.37719627, 0.37498961, 0.37478233]),\n",
       " 'test_mae': array([0.3109002 , 0.31156994, 0.31301829, 0.31145378, 0.3111352 ]),\n",
       " 'fit_time': (0.3999321460723877,\n",
       "  0.4029550552368164,\n",
       "  0.38995838165283203,\n",
       "  0.5056493282318115,\n",
       "  0.39797115325927734),\n",
       " 'test_time': (0.6692483425140381,\n",
       "  0.7619295120239258,\n",
       "  0.7689447402954102,\n",
       "  0.7320435047149658,\n",
       "  0.8237967491149902)}"
      ]
     },
     "execution_count": 194,
     "metadata": {},
     "output_type": "execute_result"
    }
   ],
   "source": [
    "model = BaselineOnly()\n",
    "cross_validate(model, data, measures=['rmse', 'mae'], cv = 5, n_jobs =4, verbose = True)"
   ]
  },
  {
   "cell_type": "code",
   "execution_count": 195,
   "metadata": {},
   "outputs": [
    {
     "name": "stdout",
     "output_type": "stream",
     "text": [
      "Evaluating RMSE, MAE of algorithm CoClustering on 5 split(s).\n",
      "\n",
      "                  Fold 1  Fold 2  Fold 3  Fold 4  Fold 5  Mean    Std     \n",
      "RMSE (testset)    0.3676  0.3686  0.3694  0.3671  0.3698  0.3685  0.0010  \n",
      "MAE (testset)     0.2410  0.2420  0.2396  0.2407  0.2383  0.2403  0.0013  \n",
      "Fit time          14.24   15.45   15.25   13.85   12.47   14.26   1.08    \n",
      "Test time         1.01    0.96    0.95    0.77    0.63    0.86    0.14    \n"
     ]
    },
    {
     "data": {
      "text/plain": [
       "{'test_rmse': array([0.36760859, 0.36859797, 0.36936582, 0.36707556, 0.36983522]),\n",
       " 'test_mae': array([0.24096807, 0.24197854, 0.23961312, 0.24072646, 0.23827581]),\n",
       " 'fit_time': (14.244921684265137,\n",
       "  15.453688621520996,\n",
       "  15.254220724105835,\n",
       "  13.85396409034729,\n",
       "  12.469709634780884),\n",
       " 'test_time': (1.0053105354309082,\n",
       "  0.9554471969604492,\n",
       "  0.9484648704528809,\n",
       "  0.7679483890533447,\n",
       "  0.6313140392303467)}"
      ]
     },
     "execution_count": 195,
     "metadata": {},
     "output_type": "execute_result"
    }
   ],
   "source": [
    "model = CoClustering()\n",
    "cross_validate(model, data, measures=['rmse', 'mae'], cv = 5, n_jobs =4, verbose = True)"
   ]
  },
  {
   "cell_type": "code",
   "execution_count": 229,
   "metadata": {},
   "outputs": [
    {
     "name": "stdout",
     "output_type": "stream",
     "text": [
      "Estimating biases using als...\n",
      "RMSE: 0.3774\n"
     ]
    },
    {
     "data": {
      "text/plain": [
       "0.37737504608480443"
      ]
     },
     "execution_count": 229,
     "metadata": {},
     "output_type": "execute_result"
    }
   ],
   "source": [
    "from surprise.model_selection import train_test_split\n",
    "from surprise import accuracy\n",
    "\n",
    "trainset, testset = train_test_split(data, test_size = 0.25)\n",
    "model = BaselineOnly()\n",
    "predictions = model.fit(trainset).test(testset)\n",
    "accuracy.rmse(predictions)"
   ]
  },
  {
   "cell_type": "code",
   "execution_count": 243,
   "metadata": {},
   "outputs": [],
   "source": [
    "#To-Do fix : 모델 확정 후 저장"
   ]
  },
  {
   "cell_type": "code",
   "execution_count": 238,
   "metadata": {},
   "outputs": [],
   "source": [
    "#유저가 평가한 아이템 수\n",
    "def get_Iu(user_id) :\n",
    "    try :\n",
    "        return len(trainset.ur[trainset.to_inner_uid(user_id)])\n",
    "    except ValueError :\n",
    "        return 0\n",
    "    \n",
    "#아이템을 평가한 유저 수\n",
    "def get_Ui(item_id) :\n",
    "    try :\n",
    "        return len(trainset.ir[trainset.to_inner_iid(item_id)])\n",
    "    except ValueError :\n",
    "        return 0\n",
    "    \n",
    "df = pd.DataFrame(predictions, columns = ['user_id','item_id', 'rating', 'est', 'details'])\n",
    "df['Iu'] = df.user_id.apply(get_Iu)\n",
    "df['Ui'] = df.item_id.apply(get_Ui)\n",
    "df['err'] = abs(df.est - df.rating)"
   ]
  },
  {
   "cell_type": "code",
   "execution_count": 239,
   "metadata": {
    "scrolled": true
   },
   "outputs": [
    {
     "data": {
      "text/html": [
       "<div>\n",
       "<style scoped>\n",
       "    .dataframe tbody tr th:only-of-type {\n",
       "        vertical-align: middle;\n",
       "    }\n",
       "\n",
       "    .dataframe tbody tr th {\n",
       "        vertical-align: top;\n",
       "    }\n",
       "\n",
       "    .dataframe thead th {\n",
       "        text-align: right;\n",
       "    }\n",
       "</style>\n",
       "<table border=\"1\" class=\"dataframe\">\n",
       "  <thead>\n",
       "    <tr style=\"text-align: right;\">\n",
       "      <th></th>\n",
       "      <th>user_id</th>\n",
       "      <th>item_id</th>\n",
       "      <th>rating</th>\n",
       "      <th>est</th>\n",
       "      <th>details</th>\n",
       "      <th>Iu</th>\n",
       "      <th>Ui</th>\n",
       "      <th>err</th>\n",
       "    </tr>\n",
       "  </thead>\n",
       "  <tbody>\n",
       "    <tr>\n",
       "      <th>0</th>\n",
       "      <td>1493282</td>\n",
       "      <td>2297962462</td>\n",
       "      <td>5.0</td>\n",
       "      <td>4.847037</td>\n",
       "      <td>{'was_impossible': False}</td>\n",
       "      <td>26</td>\n",
       "      <td>174</td>\n",
       "      <td>0.152963</td>\n",
       "    </tr>\n",
       "    <tr>\n",
       "      <th>1</th>\n",
       "      <td>90251414</td>\n",
       "      <td>4262797202</td>\n",
       "      <td>5.0</td>\n",
       "      <td>4.766824</td>\n",
       "      <td>{'was_impossible': False}</td>\n",
       "      <td>5</td>\n",
       "      <td>396</td>\n",
       "      <td>0.233176</td>\n",
       "    </tr>\n",
       "    <tr>\n",
       "      <th>2</th>\n",
       "      <td>2089266</td>\n",
       "      <td>218855365</td>\n",
       "      <td>5.0</td>\n",
       "      <td>4.692943</td>\n",
       "      <td>{'was_impossible': False}</td>\n",
       "      <td>5</td>\n",
       "      <td>605</td>\n",
       "      <td>0.307057</td>\n",
       "    </tr>\n",
       "    <tr>\n",
       "      <th>3</th>\n",
       "      <td>33860373</td>\n",
       "      <td>4347430018</td>\n",
       "      <td>5.0</td>\n",
       "      <td>4.736367</td>\n",
       "      <td>{'was_impossible': False}</td>\n",
       "      <td>2</td>\n",
       "      <td>43</td>\n",
       "      <td>0.263633</td>\n",
       "    </tr>\n",
       "    <tr>\n",
       "      <th>4</th>\n",
       "      <td>28801125</td>\n",
       "      <td>2635339642</td>\n",
       "      <td>5.0</td>\n",
       "      <td>4.435223</td>\n",
       "      <td>{'was_impossible': False}</td>\n",
       "      <td>12</td>\n",
       "      <td>60</td>\n",
       "      <td>0.564777</td>\n",
       "    </tr>\n",
       "    <tr>\n",
       "      <th>...</th>\n",
       "      <td>...</td>\n",
       "      <td>...</td>\n",
       "      <td>...</td>\n",
       "      <td>...</td>\n",
       "      <td>...</td>\n",
       "      <td>...</td>\n",
       "      <td>...</td>\n",
       "      <td>...</td>\n",
       "    </tr>\n",
       "    <tr>\n",
       "      <th>139061</th>\n",
       "      <td>86200234</td>\n",
       "      <td>2853302034</td>\n",
       "      <td>5.0</td>\n",
       "      <td>4.858362</td>\n",
       "      <td>{'was_impossible': False}</td>\n",
       "      <td>5</td>\n",
       "      <td>179</td>\n",
       "      <td>0.141638</td>\n",
       "    </tr>\n",
       "    <tr>\n",
       "      <th>139062</th>\n",
       "      <td>20386189</td>\n",
       "      <td>3422248238</td>\n",
       "      <td>5.0</td>\n",
       "      <td>4.751357</td>\n",
       "      <td>{'was_impossible': False}</td>\n",
       "      <td>7</td>\n",
       "      <td>313</td>\n",
       "      <td>0.248643</td>\n",
       "    </tr>\n",
       "    <tr>\n",
       "      <th>139063</th>\n",
       "      <td>479079</td>\n",
       "      <td>814420358</td>\n",
       "      <td>5.0</td>\n",
       "      <td>4.791974</td>\n",
       "      <td>{'was_impossible': False}</td>\n",
       "      <td>5</td>\n",
       "      <td>25</td>\n",
       "      <td>0.208026</td>\n",
       "    </tr>\n",
       "    <tr>\n",
       "      <th>139064</th>\n",
       "      <td>91667054</td>\n",
       "      <td>2726665850</td>\n",
       "      <td>4.0</td>\n",
       "      <td>4.772392</td>\n",
       "      <td>{'was_impossible': False}</td>\n",
       "      <td>6</td>\n",
       "      <td>5</td>\n",
       "      <td>0.772392</td>\n",
       "    </tr>\n",
       "    <tr>\n",
       "      <th>139065</th>\n",
       "      <td>49483569</td>\n",
       "      <td>2367233094</td>\n",
       "      <td>5.0</td>\n",
       "      <td>4.785515</td>\n",
       "      <td>{'was_impossible': False}</td>\n",
       "      <td>6</td>\n",
       "      <td>8</td>\n",
       "      <td>0.214485</td>\n",
       "    </tr>\n",
       "  </tbody>\n",
       "</table>\n",
       "<p>139066 rows × 8 columns</p>\n",
       "</div>"
      ],
      "text/plain": [
       "         user_id     item_id  rating       est                    details  Iu  \\\n",
       "0        1493282  2297962462     5.0  4.847037  {'was_impossible': False}  26   \n",
       "1       90251414  4262797202     5.0  4.766824  {'was_impossible': False}   5   \n",
       "2        2089266   218855365     5.0  4.692943  {'was_impossible': False}   5   \n",
       "3       33860373  4347430018     5.0  4.736367  {'was_impossible': False}   2   \n",
       "4       28801125  2635339642     5.0  4.435223  {'was_impossible': False}  12   \n",
       "...          ...         ...     ...       ...                        ...  ..   \n",
       "139061  86200234  2853302034     5.0  4.858362  {'was_impossible': False}   5   \n",
       "139062  20386189  3422248238     5.0  4.751357  {'was_impossible': False}   7   \n",
       "139063    479079   814420358     5.0  4.791974  {'was_impossible': False}   5   \n",
       "139064  91667054  2726665850     4.0  4.772392  {'was_impossible': False}   6   \n",
       "139065  49483569  2367233094     5.0  4.785515  {'was_impossible': False}   6   \n",
       "\n",
       "         Ui       err  \n",
       "0       174  0.152963  \n",
       "1       396  0.233176  \n",
       "2       605  0.307057  \n",
       "3        43  0.263633  \n",
       "4        60  0.564777  \n",
       "...     ...       ...  \n",
       "139061  179  0.141638  \n",
       "139062  313  0.248643  \n",
       "139063   25  0.208026  \n",
       "139064    5  0.772392  \n",
       "139065    8  0.214485  \n",
       "\n",
       "[139066 rows x 8 columns]"
      ]
     },
     "execution_count": 239,
     "metadata": {},
     "output_type": "execute_result"
    }
   ],
   "source": [
    "df"
   ]
  },
  {
   "cell_type": "code",
   "execution_count": 240,
   "metadata": {},
   "outputs": [],
   "source": [
    "best_predictions = df.sort_values(by = 'err')[:10]\n",
    "worst_predictions = df.sort_values(by = 'err')[-10:]"
   ]
  },
  {
   "cell_type": "code",
   "execution_count": 241,
   "metadata": {},
   "outputs": [
    {
     "data": {
      "text/html": [
       "<div>\n",
       "<style scoped>\n",
       "    .dataframe tbody tr th:only-of-type {\n",
       "        vertical-align: middle;\n",
       "    }\n",
       "\n",
       "    .dataframe tbody tr th {\n",
       "        vertical-align: top;\n",
       "    }\n",
       "\n",
       "    .dataframe thead th {\n",
       "        text-align: right;\n",
       "    }\n",
       "</style>\n",
       "<table border=\"1\" class=\"dataframe\">\n",
       "  <thead>\n",
       "    <tr style=\"text-align: right;\">\n",
       "      <th></th>\n",
       "      <th>user_id</th>\n",
       "      <th>item_id</th>\n",
       "      <th>rating</th>\n",
       "      <th>est</th>\n",
       "      <th>details</th>\n",
       "      <th>Iu</th>\n",
       "      <th>Ui</th>\n",
       "      <th>err</th>\n",
       "    </tr>\n",
       "  </thead>\n",
       "  <tbody>\n",
       "    <tr>\n",
       "      <th>42058</th>\n",
       "      <td>45487797</td>\n",
       "      <td>1565742962</td>\n",
       "      <td>5.0</td>\n",
       "      <td>5.000073</td>\n",
       "      <td>{'was_impossible': False}</td>\n",
       "      <td>11</td>\n",
       "      <td>27</td>\n",
       "      <td>0.000073</td>\n",
       "    </tr>\n",
       "    <tr>\n",
       "      <th>121938</th>\n",
       "      <td>59875986</td>\n",
       "      <td>2461240282</td>\n",
       "      <td>5.0</td>\n",
       "      <td>4.999918</td>\n",
       "      <td>{'was_impossible': False}</td>\n",
       "      <td>22</td>\n",
       "      <td>12</td>\n",
       "      <td>0.000082</td>\n",
       "    </tr>\n",
       "    <tr>\n",
       "      <th>66211</th>\n",
       "      <td>7739577</td>\n",
       "      <td>2361728674</td>\n",
       "      <td>5.0</td>\n",
       "      <td>5.000126</td>\n",
       "      <td>{'was_impossible': False}</td>\n",
       "      <td>27</td>\n",
       "      <td>35</td>\n",
       "      <td>0.000126</td>\n",
       "    </tr>\n",
       "    <tr>\n",
       "      <th>19085</th>\n",
       "      <td>1506954</td>\n",
       "      <td>2707159158</td>\n",
       "      <td>5.0</td>\n",
       "      <td>5.000189</td>\n",
       "      <td>{'was_impossible': False}</td>\n",
       "      <td>23</td>\n",
       "      <td>41</td>\n",
       "      <td>0.000189</td>\n",
       "    </tr>\n",
       "    <tr>\n",
       "      <th>39475</th>\n",
       "      <td>23322901</td>\n",
       "      <td>2001455378</td>\n",
       "      <td>5.0</td>\n",
       "      <td>4.999776</td>\n",
       "      <td>{'was_impossible': False}</td>\n",
       "      <td>17</td>\n",
       "      <td>48</td>\n",
       "      <td>0.000224</td>\n",
       "    </tr>\n",
       "    <tr>\n",
       "      <th>127061</th>\n",
       "      <td>526323</td>\n",
       "      <td>3307399846</td>\n",
       "      <td>5.0</td>\n",
       "      <td>5.000445</td>\n",
       "      <td>{'was_impossible': False}</td>\n",
       "      <td>67</td>\n",
       "      <td>53</td>\n",
       "      <td>0.000445</td>\n",
       "    </tr>\n",
       "    <tr>\n",
       "      <th>28073</th>\n",
       "      <td>87189730</td>\n",
       "      <td>3764111394</td>\n",
       "      <td>5.0</td>\n",
       "      <td>5.000457</td>\n",
       "      <td>{'was_impossible': False}</td>\n",
       "      <td>16</td>\n",
       "      <td>40</td>\n",
       "      <td>0.000457</td>\n",
       "    </tr>\n",
       "    <tr>\n",
       "      <th>95819</th>\n",
       "      <td>33239905</td>\n",
       "      <td>236644317</td>\n",
       "      <td>5.0</td>\n",
       "      <td>5.000498</td>\n",
       "      <td>{'was_impossible': False}</td>\n",
       "      <td>19</td>\n",
       "      <td>119</td>\n",
       "      <td>0.000498</td>\n",
       "    </tr>\n",
       "    <tr>\n",
       "      <th>48851</th>\n",
       "      <td>17951285</td>\n",
       "      <td>3054457222</td>\n",
       "      <td>5.0</td>\n",
       "      <td>4.999442</td>\n",
       "      <td>{'was_impossible': False}</td>\n",
       "      <td>35</td>\n",
       "      <td>139</td>\n",
       "      <td>0.000558</td>\n",
       "    </tr>\n",
       "    <tr>\n",
       "      <th>40333</th>\n",
       "      <td>33369545</td>\n",
       "      <td>3097278118</td>\n",
       "      <td>5.0</td>\n",
       "      <td>5.000616</td>\n",
       "      <td>{'was_impossible': False}</td>\n",
       "      <td>45</td>\n",
       "      <td>17</td>\n",
       "      <td>0.000616</td>\n",
       "    </tr>\n",
       "  </tbody>\n",
       "</table>\n",
       "</div>"
      ],
      "text/plain": [
       "         user_id     item_id  rating       est                    details  Iu  \\\n",
       "42058   45487797  1565742962     5.0  5.000073  {'was_impossible': False}  11   \n",
       "121938  59875986  2461240282     5.0  4.999918  {'was_impossible': False}  22   \n",
       "66211    7739577  2361728674     5.0  5.000126  {'was_impossible': False}  27   \n",
       "19085    1506954  2707159158     5.0  5.000189  {'was_impossible': False}  23   \n",
       "39475   23322901  2001455378     5.0  4.999776  {'was_impossible': False}  17   \n",
       "127061    526323  3307399846     5.0  5.000445  {'was_impossible': False}  67   \n",
       "28073   87189730  3764111394     5.0  5.000457  {'was_impossible': False}  16   \n",
       "95819   33239905   236644317     5.0  5.000498  {'was_impossible': False}  19   \n",
       "48851   17951285  3054457222     5.0  4.999442  {'was_impossible': False}  35   \n",
       "40333   33369545  3097278118     5.0  5.000616  {'was_impossible': False}  45   \n",
       "\n",
       "         Ui       err  \n",
       "42058    27  0.000073  \n",
       "121938   12  0.000082  \n",
       "66211    35  0.000126  \n",
       "19085    41  0.000189  \n",
       "39475    48  0.000224  \n",
       "127061   53  0.000445  \n",
       "28073    40  0.000457  \n",
       "95819   119  0.000498  \n",
       "48851   139  0.000558  \n",
       "40333    17  0.000616  "
      ]
     },
     "execution_count": 241,
     "metadata": {},
     "output_type": "execute_result"
    }
   ],
   "source": [
    "best_predictions"
   ]
  },
  {
   "cell_type": "code",
   "execution_count": 242,
   "metadata": {},
   "outputs": [
    {
     "data": {
      "text/html": [
       "<div>\n",
       "<style scoped>\n",
       "    .dataframe tbody tr th:only-of-type {\n",
       "        vertical-align: middle;\n",
       "    }\n",
       "\n",
       "    .dataframe tbody tr th {\n",
       "        vertical-align: top;\n",
       "    }\n",
       "\n",
       "    .dataframe thead th {\n",
       "        text-align: right;\n",
       "    }\n",
       "</style>\n",
       "<table border=\"1\" class=\"dataframe\">\n",
       "  <thead>\n",
       "    <tr style=\"text-align: right;\">\n",
       "      <th></th>\n",
       "      <th>user_id</th>\n",
       "      <th>item_id</th>\n",
       "      <th>rating</th>\n",
       "      <th>est</th>\n",
       "      <th>details</th>\n",
       "      <th>Iu</th>\n",
       "      <th>Ui</th>\n",
       "      <th>err</th>\n",
       "    </tr>\n",
       "  </thead>\n",
       "  <tbody>\n",
       "    <tr>\n",
       "      <th>125973</th>\n",
       "      <td>23253113</td>\n",
       "      <td>4397222310</td>\n",
       "      <td>4.0</td>\n",
       "      <td>4.977759</td>\n",
       "      <td>{'was_impossible': False}</td>\n",
       "      <td>27</td>\n",
       "      <td>28</td>\n",
       "      <td>0.977759</td>\n",
       "    </tr>\n",
       "    <tr>\n",
       "      <th>92583</th>\n",
       "      <td>39142201</td>\n",
       "      <td>2813248998</td>\n",
       "      <td>4.0</td>\n",
       "      <td>4.977962</td>\n",
       "      <td>{'was_impossible': False}</td>\n",
       "      <td>25</td>\n",
       "      <td>148</td>\n",
       "      <td>0.977962</td>\n",
       "    </tr>\n",
       "    <tr>\n",
       "      <th>72800</th>\n",
       "      <td>87309082</td>\n",
       "      <td>4355224450</td>\n",
       "      <td>4.0</td>\n",
       "      <td>4.978562</td>\n",
       "      <td>{'was_impossible': False}</td>\n",
       "      <td>17</td>\n",
       "      <td>181</td>\n",
       "      <td>0.978562</td>\n",
       "    </tr>\n",
       "    <tr>\n",
       "      <th>36813</th>\n",
       "      <td>29026445</td>\n",
       "      <td>2966243526</td>\n",
       "      <td>4.0</td>\n",
       "      <td>4.978709</td>\n",
       "      <td>{'was_impossible': False}</td>\n",
       "      <td>41</td>\n",
       "      <td>22</td>\n",
       "      <td>0.978709</td>\n",
       "    </tr>\n",
       "    <tr>\n",
       "      <th>66299</th>\n",
       "      <td>36310105</td>\n",
       "      <td>3554510742</td>\n",
       "      <td>4.0</td>\n",
       "      <td>4.989363</td>\n",
       "      <td>{'was_impossible': False}</td>\n",
       "      <td>11</td>\n",
       "      <td>31</td>\n",
       "      <td>0.989363</td>\n",
       "    </tr>\n",
       "    <tr>\n",
       "      <th>38815</th>\n",
       "      <td>526323</td>\n",
       "      <td>1099550674</td>\n",
       "      <td>4.0</td>\n",
       "      <td>5.000565</td>\n",
       "      <td>{'was_impossible': False}</td>\n",
       "      <td>67</td>\n",
       "      <td>5</td>\n",
       "      <td>1.000565</td>\n",
       "    </tr>\n",
       "    <tr>\n",
       "      <th>33998</th>\n",
       "      <td>47123645</td>\n",
       "      <td>748426326</td>\n",
       "      <td>4.0</td>\n",
       "      <td>5.004331</td>\n",
       "      <td>{'was_impossible': False}</td>\n",
       "      <td>28</td>\n",
       "      <td>60</td>\n",
       "      <td>1.004331</td>\n",
       "    </tr>\n",
       "    <tr>\n",
       "      <th>28022</th>\n",
       "      <td>97240130</td>\n",
       "      <td>2637414306</td>\n",
       "      <td>4.0</td>\n",
       "      <td>5.017195</td>\n",
       "      <td>{'was_impossible': False}</td>\n",
       "      <td>28</td>\n",
       "      <td>95</td>\n",
       "      <td>1.017195</td>\n",
       "    </tr>\n",
       "    <tr>\n",
       "      <th>113497</th>\n",
       "      <td>3439161</td>\n",
       "      <td>2240152278</td>\n",
       "      <td>4.0</td>\n",
       "      <td>5.027161</td>\n",
       "      <td>{'was_impossible': False}</td>\n",
       "      <td>22</td>\n",
       "      <td>13</td>\n",
       "      <td>1.027161</td>\n",
       "    </tr>\n",
       "    <tr>\n",
       "      <th>68481</th>\n",
       "      <td>33244805</td>\n",
       "      <td>1444592130</td>\n",
       "      <td>4.0</td>\n",
       "      <td>5.041206</td>\n",
       "      <td>{'was_impossible': False}</td>\n",
       "      <td>26</td>\n",
       "      <td>16</td>\n",
       "      <td>1.041206</td>\n",
       "    </tr>\n",
       "  </tbody>\n",
       "</table>\n",
       "</div>"
      ],
      "text/plain": [
       "         user_id     item_id  rating       est                    details  Iu  \\\n",
       "125973  23253113  4397222310     4.0  4.977759  {'was_impossible': False}  27   \n",
       "92583   39142201  2813248998     4.0  4.977962  {'was_impossible': False}  25   \n",
       "72800   87309082  4355224450     4.0  4.978562  {'was_impossible': False}  17   \n",
       "36813   29026445  2966243526     4.0  4.978709  {'was_impossible': False}  41   \n",
       "66299   36310105  3554510742     4.0  4.989363  {'was_impossible': False}  11   \n",
       "38815     526323  1099550674     4.0  5.000565  {'was_impossible': False}  67   \n",
       "33998   47123645   748426326     4.0  5.004331  {'was_impossible': False}  28   \n",
       "28022   97240130  2637414306     4.0  5.017195  {'was_impossible': False}  28   \n",
       "113497   3439161  2240152278     4.0  5.027161  {'was_impossible': False}  22   \n",
       "68481   33244805  1444592130     4.0  5.041206  {'was_impossible': False}  26   \n",
       "\n",
       "         Ui       err  \n",
       "125973   28  0.977759  \n",
       "92583   148  0.977962  \n",
       "72800   181  0.978562  \n",
       "36813    22  0.978709  \n",
       "66299    31  0.989363  \n",
       "38815     5  1.000565  \n",
       "33998    60  1.004331  \n",
       "28022    95  1.017195  \n",
       "113497   13  1.027161  \n",
       "68481    16  1.041206  "
      ]
     },
     "execution_count": 242,
     "metadata": {},
     "output_type": "execute_result"
    }
   ],
   "source": [
    "worst_predictions"
   ]
  },
  {
   "cell_type": "code",
   "execution_count": null,
   "metadata": {},
   "outputs": [],
   "source": [
    "#To-Do fix : 3 이하 만족도 전처리된 데이터말고 풀 데이터로 적용\n",
    "#-> "
   ]
  },
  {
   "cell_type": "code",
   "execution_count": null,
   "metadata": {},
   "outputs": [],
   "source": []
  },
  {
   "cell_type": "code",
   "execution_count": null,
   "metadata": {},
   "outputs": [],
   "source": []
  }
 ],
 "metadata": {
  "colab": {
   "collapsed_sections": [],
   "name": "_13 추천 시스템(Recommender System).ipynb의 사본",
   "provenance": [
    {
     "file_id": "1j39NJ-HSyAeRn-QekORfpkLcW3h5cg1W",
     "timestamp": 1603684889986
    }
   ],
   "toc_visible": true
  },
  "kernelspec": {
   "display_name": "Python 3",
   "language": "python",
   "name": "python3"
  },
  "language_info": {
   "codemirror_mode": {
    "name": "ipython",
    "version": 3
   },
   "file_extension": ".py",
   "mimetype": "text/x-python",
   "name": "python",
   "nbconvert_exporter": "python",
   "pygments_lexer": "ipython3",
   "version": "3.7.6"
  }
 },
 "nbformat": 4,
 "nbformat_minor": 1
}