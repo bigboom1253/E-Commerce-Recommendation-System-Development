{
 "cells": [
  {
   "cell_type": "code",
   "execution_count": 1,
   "metadata": {},
   "outputs": [],
   "source": [
    "#Step 0. 필요한 모듈과 라이브러리를 로딩합니다.\n",
    "import sys\n",
    "import os\n",
    "import pandas as pd\n",
    "import numpy as np\n",
    "\n",
    "from bs4 import BeautifulSoup\n",
    "from selenium import webdriver\n",
    "import time\n",
    "import tqdm\n",
    "from tqdm.notebook import tqdm\n",
    "import re"
   ]
  },
  {
   "cell_type": "markdown",
   "metadata": {},
   "source": [
    "#드라이버 설치\n",
    "https://chromedriver.chromium.org/downloads\n",
    "#드라이버랑 크롬버젼이랑 일치시켜주어야함. 드라이버 다운 받을 때 참고(메뉴 => 도움말 => Chrome 정보에서 확인)"
   ]
  },
  {
   "cell_type": "code",
   "execution_count": 2,
   "metadata": {},
   "outputs": [],
   "source": [
    "#Step 1. 크롬 웹브라우저 실행\n",
    "#경로설정\n",
    "path = \"C:/Users/bae/Desktop/chromedriver.exe\"   # 맥은 \"chromedriver\"\n",
    "driver = webdriver.Chrome(path)"
   ]
  },
  {
   "cell_type": "code",
   "execution_count": 3,
   "metadata": {},
   "outputs": [],
   "source": [
    "txt_file_path = 'productUrlList.txt'"
   ]
  },
  {
   "cell_type": "code",
   "execution_count": 4,
   "metadata": {},
   "outputs": [
    {
     "data": {
      "text/plain": [
       "633"
      ]
     },
     "execution_count": 4,
     "metadata": {},
     "output_type": "execute_result"
    }
   ],
   "source": [
    "#productUrlList.txt에서 링크 리스트 불러오기\n",
    "r = open(txt_file_path, mode='rt', encoding='utf-8')\n",
    "productUrlList = r.readlines()\n",
    "len(productUrlList)"
   ]
  },
  {
   "cell_type": "code",
   "execution_count": 59,
   "metadata": {
    "scrolled": true
   },
   "outputs": [
    {
     "data": {
      "application/vnd.jupyter.widget-view+json": {
       "model_id": "e48de79972624553b59f6a6b9dfc77f3",
       "version_major": 2,
       "version_minor": 0
      },
      "text/plain": [
       "HBox(children=(FloatProgress(value=0.0, max=5.0), HTML(value='')))"
      ]
     },
     "metadata": {},
     "output_type": "display_data"
    },
    {
     "name": "stdout",
     "output_type": "stream",
     "text": [
      "\n"
     ]
    },
    {
     "data": {
      "application/vnd.jupyter.widget-view+json": {
       "model_id": "816b2a4a0e704db7960c4693ba26b743",
       "version_major": 2,
       "version_minor": 0
      },
      "text/plain": [
       "HBox(children=(FloatProgress(value=0.0, max=5.0), HTML(value='')))"
      ]
     },
     "metadata": {},
     "output_type": "display_data"
    },
    {
     "name": "stdout",
     "output_type": "stream",
     "text": [
      "\n"
     ]
    }
   ],
   "source": [
    "import json\n",
    "\n",
    "def toJson(data, file_path) :\n",
    "    with open(file_path, 'w', encoding='utf-8') as file :\n",
    "        json.dump(data, file)\n",
    "    return \n",
    "\n",
    "txt_file_path_ls = ['productUrlList_간편식_냉장_냉동.txt', 'productUrlList_과일.txt']\n",
    "\n",
    "for txt_file_path in txt_file_path_ls :\n",
    "\n",
    "    #productUrlList.txt에서 링크 리스트 불러오기\n",
    "    r = open(txt_file_path, mode='rt', encoding='utf-8')\n",
    "    productUrlList = r.readlines()\n",
    "\n",
    "    error_ls = []\n",
    "    prod_data = []\n",
    "    satisfaction_data = []\n",
    "\n",
    "    for prod_url in tqdm(productUrlList) :\n",
    "        try :\n",
    "            driver.get(prod_url)\n",
    "            time.sleep(1)\n",
    "\n",
    "            #상품 정보 뽑기\n",
    "\n",
    "            #상품 고유번호\n",
    "            prod_idx = re.sub('http://www.tmon.co.kr/deal/','',prod_url)\n",
    "            prod_idx = re.sub('\\n','',prod_idx)\n",
    "            prod_idx = int(prod_idx)\n",
    "\n",
    "            #상품명\n",
    "            productTitle= driver.find_element_by_class_name(\"deal_title_main\").text\n",
    "\n",
    "            #상품 카테고리 최대 6층\n",
    "            category_ls = []\n",
    "            for i in range(1, 7) :\n",
    "                try :\n",
    "                    category= driver.find_element_by_class_name(\"category._depth{}\".format(i)).text\n",
    "                    category_ls.append(category)\n",
    "                except :\n",
    "                    break\n",
    "\n",
    "            #상품 가격\n",
    "            productPrice = driver.find_element_by_class_name(\"number_unit\").text #'21,900원'으로 나오기 때문에 전처리 필요 정규표현식으로 숫자만 남기고 int\n",
    "            temp = re.findall('[0-9]*', productPrice)\n",
    "            productPrice = int(''.join(temp))\n",
    "\n",
    "            #구매횟수 \n",
    "            buy_count = driver.find_element_by_class_name(\"deal_price_buy_count\").text\n",
    "            temp = re.findall('[0-9]*', buy_count)\n",
    "            buy_count = int(''.join(temp))\n",
    "\n",
    "            #상품 만족도 star_rate_num\n",
    "            try :\n",
    "                prod_satis = float(driver.find_element_by_class_name(\"grade_average_score\").text)\n",
    "            except :\n",
    "                prod_satis = 0.\n",
    "\n",
    "            #상품이미지 url\n",
    "            image = driver.find_element_by_class_name(\"active\").find_element_by_tag_name('img').get_attribute('src')\n",
    "\n",
    "            #상품종료여부(품절 = 0, 구매가능 = 1)\n",
    "            if driver.find_elements_by_class_name(\"col2\")[1].text == '바로구매' :\n",
    "                stocks = 1\n",
    "            else : \n",
    "                stocks = 0\n",
    "\n",
    "\n",
    "            prod_data.append({\n",
    "                'prod_idx' : prod_idx,\n",
    "                'image' : image,\n",
    "                'title' : productTitle,\n",
    "                'category' : category_ls,\n",
    "                'price' : productPrice,\n",
    "                'stocks' : stocks,\n",
    "                'prod_satis' : prod_satis,\n",
    "                'prod_url' : prod_url,\n",
    "                'buy_count' : buy_count\n",
    "            })\n",
    "\n",
    "            #상품 만족도 & 배송 만족도\n",
    "            customer_satisfaction = driver.find_elements_by_class_name(\"customer_satisfaction_box\")\n",
    "            avg_seller_prod_satis = int(customer_satisfaction[0].find_element_by_class_name('num').text)\n",
    "            avg_seller_ship_satis = int(customer_satisfaction[1].find_element_by_class_name('num').text)\n",
    "\n",
    "            try : #옵션 없는 경우 존재\n",
    "                review_stats = driver.find_elements_by_class_name(\"review_stats_item\")\n",
    "\n",
    "                #옵션1과 만족도 (ex: 맛 - 73)\n",
    "                use_opt1 = review_stats[0].find_element_by_class_name('keyword').text\n",
    "                avg_use_satis1 = review_stats[0].find_element_by_class_name('pct').text\n",
    "                avg_use_satis1 = re.sub('\\%','',avg_use_satis1)\n",
    "                avg_use_satis1 = int(avg_use_satis1)\n",
    "\n",
    "                #옵션2와 만족도\n",
    "                use_opt2 = review_stats[1].find_element_by_class_name('keyword').text\n",
    "                avg_use_satis2 = review_stats[1].find_element_by_class_name('pct').text\n",
    "                avg_use_satis2 = re.sub('\\%','',avg_use_satis2)\n",
    "                avg_use_satis2 = int(avg_use_satis2)\n",
    "\n",
    "            except :\n",
    "                use_opt1 =''\n",
    "                avg_use_satis1 = 0\n",
    "                use_opt2 =''\n",
    "                avg_use_satis2 = 0\n",
    "\n",
    "            satisfaction_data.append({\n",
    "                'prod_idx' : prod_idx,\n",
    "                'avg_seller_prod_satis' : avg_seller_prod_satis,\n",
    "                'avg_seller_ship_satis' : avg_seller_ship_satis,\n",
    "                'use_opt1' : use_opt1,\n",
    "                'avg_use_satis1' : avg_use_satis1,\n",
    "                'use_opt2' : use_opt2,\n",
    "                'avg_use_satis2' : avg_use_satis2,\n",
    "                'prod_satis' : prod_satis,\n",
    "                'prod_url' : prod_url,   \n",
    "            })\n",
    "\n",
    "        except : \n",
    "            error_ls.append(prod_url)\n",
    "\n",
    "    toJson(prod_data, 'prod_data_{}.json'.format(txt_file_path[15:-4]))\n",
    "    toJson(satisfaction_data, 'satisfaction_data_{}.json'.format(txt_file_path[15:-4]))\n",
    "    toJson(error_ls, 'error_data_{}.json'.format(txt_file_path[15:-4]))\n",
    "\n",
    "#중간에 멈췄으면, 아래 코드 실행 후 **반복문 범위와 **파일저장명(file_path) 변경해서 재실행\n",
    "#print(productUrlList.index(prod_data[-1]))"
   ]
  },
  {
   "cell_type": "code",
   "execution_count": 60,
   "metadata": {},
   "outputs": [
    {
     "data": {
      "text/html": [
       "<div>\n",
       "<style scoped>\n",
       "    .dataframe tbody tr th:only-of-type {\n",
       "        vertical-align: middle;\n",
       "    }\n",
       "\n",
       "    .dataframe tbody tr th {\n",
       "        vertical-align: top;\n",
       "    }\n",
       "\n",
       "    .dataframe thead th {\n",
       "        text-align: right;\n",
       "    }\n",
       "</style>\n",
       "<table border=\"1\" class=\"dataframe\">\n",
       "  <thead>\n",
       "    <tr style=\"text-align: right;\">\n",
       "      <th></th>\n",
       "      <th>prod_idx</th>\n",
       "      <th>avg_seller_prod_satis</th>\n",
       "      <th>avg_seller_ship_satis</th>\n",
       "      <th>use_opt1</th>\n",
       "      <th>avg_use_satis1</th>\n",
       "      <th>use_opt2</th>\n",
       "      <th>avg_use_satis2</th>\n",
       "      <th>prod_satis</th>\n",
       "      <th>prod_url</th>\n",
       "    </tr>\n",
       "  </thead>\n",
       "  <tbody>\n",
       "    <tr>\n",
       "      <th>0</th>\n",
       "      <td>210470745</td>\n",
       "      <td>86</td>\n",
       "      <td>90</td>\n",
       "      <td>맛</td>\n",
       "      <td>54</td>\n",
       "      <td>신선도</td>\n",
       "      <td>48</td>\n",
       "      <td>4.3</td>\n",
       "      <td>http://www.tmon.co.kr/deal/210470745\\n</td>\n",
       "    </tr>\n",
       "    <tr>\n",
       "      <th>1</th>\n",
       "      <td>423178126</td>\n",
       "      <td>88</td>\n",
       "      <td>90</td>\n",
       "      <td>크기차이</td>\n",
       "      <td>54</td>\n",
       "      <td>신선도</td>\n",
       "      <td>52</td>\n",
       "      <td>4.5</td>\n",
       "      <td>http://www.tmon.co.kr/deal/423178126\\n</td>\n",
       "    </tr>\n",
       "    <tr>\n",
       "      <th>2</th>\n",
       "      <td>403647558</td>\n",
       "      <td>83</td>\n",
       "      <td>81</td>\n",
       "      <td>맛</td>\n",
       "      <td>65</td>\n",
       "      <td>포장</td>\n",
       "      <td>57</td>\n",
       "      <td>4.5</td>\n",
       "      <td>http://www.tmon.co.kr/deal/403647558\\n</td>\n",
       "    </tr>\n",
       "    <tr>\n",
       "      <th>3</th>\n",
       "      <td>650818926</td>\n",
       "      <td>91</td>\n",
       "      <td>92</td>\n",
       "      <td>맛</td>\n",
       "      <td>78</td>\n",
       "      <td>포장</td>\n",
       "      <td>68</td>\n",
       "      <td>4.5</td>\n",
       "      <td>http://www.tmon.co.kr/deal/650818926\\n</td>\n",
       "    </tr>\n",
       "    <tr>\n",
       "      <th>4</th>\n",
       "      <td>3730576234</td>\n",
       "      <td>81</td>\n",
       "      <td>84</td>\n",
       "      <td>신선도</td>\n",
       "      <td>59</td>\n",
       "      <td>크기차이</td>\n",
       "      <td>54</td>\n",
       "      <td>4.3</td>\n",
       "      <td>http://www.tmon.co.kr/deal/3730576234\\n</td>\n",
       "    </tr>\n",
       "  </tbody>\n",
       "</table>\n",
       "</div>"
      ],
      "text/plain": [
       "     prod_idx  avg_seller_prod_satis  avg_seller_ship_satis use_opt1  \\\n",
       "0   210470745                     86                     90        맛   \n",
       "1   423178126                     88                     90     크기차이   \n",
       "2   403647558                     83                     81        맛   \n",
       "3   650818926                     91                     92        맛   \n",
       "4  3730576234                     81                     84      신선도   \n",
       "\n",
       "   avg_use_satis1 use_opt2  avg_use_satis2  prod_satis  \\\n",
       "0              54      신선도              48         4.3   \n",
       "1              54      신선도              52         4.5   \n",
       "2              65       포장              57         4.5   \n",
       "3              78       포장              68         4.5   \n",
       "4              59     크기차이              54         4.3   \n",
       "\n",
       "                                  prod_url  \n",
       "0   http://www.tmon.co.kr/deal/210470745\\n  \n",
       "1   http://www.tmon.co.kr/deal/423178126\\n  \n",
       "2   http://www.tmon.co.kr/deal/403647558\\n  \n",
       "3   http://www.tmon.co.kr/deal/650818926\\n  \n",
       "4  http://www.tmon.co.kr/deal/3730576234\\n  "
      ]
     },
     "execution_count": 60,
     "metadata": {},
     "output_type": "execute_result"
    }
   ],
   "source": [
    "data_df = pd.read_json('satisfaction_data_과일.json')\n",
    "data_df"
   ]
  },
  {
   "cell_type": "code",
   "execution_count": null,
   "metadata": {},
   "outputs": [],
   "source": []
  }
 ],
 "metadata": {
  "kernelspec": {
   "display_name": "Python 3",
   "language": "python",
   "name": "python3"
  },
  "language_info": {
   "codemirror_mode": {
    "name": "ipython",
    "version": 3
   },
   "file_extension": ".py",
   "mimetype": "text/x-python",
   "name": "python",
   "nbconvert_exporter": "python",
   "pygments_lexer": "ipython3",
   "version": "3.7.6"
  },
  "toc": {
   "base_numbering": 1,
   "nav_menu": {},
   "number_sections": false,
   "sideBar": true,
   "skip_h1_title": false,
   "title_cell": "Table of Contents",
   "title_sidebar": "Contents",
   "toc_cell": false,
   "toc_position": {},
   "toc_section_display": true,
   "toc_window_display": false
  },
  "varInspector": {
   "cols": {
    "lenName": 16,
    "lenType": 16,
    "lenVar": 40
   },
   "kernels_config": {
    "python": {
     "delete_cmd_postfix": "",
     "delete_cmd_prefix": "del ",
     "library": "var_list.py",
     "varRefreshCmd": "print(var_dic_list())"
    },
    "r": {
     "delete_cmd_postfix": ") ",
     "delete_cmd_prefix": "rm(",
     "library": "var_list.r",
     "varRefreshCmd": "cat(var_dic_list()) "
    }
   },
   "position": {
    "height": "600px",
    "left": "554.76px",
    "right": "20px",
    "top": "88px",
    "width": "424px"
   },
   "types_to_exclude": [
    "module",
    "function",
    "builtin_function_or_method",
    "instance",
    "_Feature"
   ],
   "window_display": false
  }
 },
 "nbformat": 4,
 "nbformat_minor": 2
}
